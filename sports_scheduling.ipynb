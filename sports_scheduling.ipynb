{
 "cells": [
  {
   "cell_type": "markdown",
   "metadata": {
    "render": true
   },
   "source": [
    "# Use decision optimization to help a sports league schedule its games\n",
    "\n",
    "This tutorial includes everything you need to set up decision optimization engines, build mathematical programming models, and arrive at a good working schedule for a sports league's games.\n",
    "\n",
    "\n",
    "When you finish this tutorial, you'll have a foundational knowledge of _Prescriptive Analytics_.\n",
    "\n",
    ">This notebook is part of the [Prescriptive Analytics for Python](http://ibmdecisionoptimization.github.io/docplex-doc/)\n",
    "\n",
    ">Running the sample requires the installation of\n",
    "    [CPLEX Optimization studio](https://www.ibm.com/products/ilog-cplex-optimization-studio)\n",
    "    (Commercial or free \n",
    "    [CPLEX Community edition](https://www.ibm.com/account/reg/us-en/signup?formid=urx-20028>`)).\n",
    "    This sample automatically installs *CPLEX CE* if needed.\n",
    "\n",
    "\n",
    "Table of contents:\n",
    "\n",
    "-  [The business problem](#The-business-problem:--Games-Scheduling-in-the-National-Football-League)\n",
    "*  [How decision optimization (prescriptive analytics) can help](#How--decision-optimization-can-help)\n",
    "*  [Use decision optimization](#Use-decision-optimization)\n",
    "    *  [Step 1: Import the library](#Step-1:-Import-the-library)\n",
    "    -  [Step 2: Model the Data](#Step-2:-Model-the-data)\n",
    "    *  [Step 3: Prepare the data](#Step-3:-Prepare-the-data)\n",
    "    -  [Step 4: Set up the prescriptive model](#Step-4:-Set-up-the-prescriptive-model)\n",
    "        * [Define the decision variables](#Define-the-decision-variables)\n",
    "        * [Express the business constraints](#Express-the-business-constraints)\n",
    "        * [Express the objective](#Express-the-objective)\n",
    "        * [Solve with Decision Optimization](#Solve-with-Decision-Optimization)\n",
    "    *  [Step 5: Investigate the solution and run an example analysis](#Step-5:-Investigate-the-solution-and-then-run-an-example-analysis)\n",
    "*  [Summary](#Summary)\n"
   ]
  },
  {
   "cell_type": "markdown",
   "metadata": {
    "render": true
   },
   "source": [
    "## The business problem:  Games Scheduling in the National Football League \n",
    "\n",
    "\n",
    "* A sports league with two divisions must schedule games so that each team plays every team within its division a given number of times,  and each team plays teams in the other division a given number of times.\n",
    "* A team plays exactly one game each week. \n",
    "* A pair of teams cannot play each other on consecutive weeks.\n",
    "* While a third of a team's intradivisional games must be played in the first half of the season, the preference is for intradivisional games to be held as late as possible in the season.\n",
    "    * To model this preference, there is an incentive for intradivisional games that increases each week as a square of the week. \n",
    "    * An opponent must be assigned to each team each week to maximize the total of the incentives..\n",
    " \n",
    "\n",
    " \n",
    "This is a type of discrete optimization problem that can be solved by using either **Integer Programming** (IP) or **Constraint Programming** (CP). \n",
    "\n",
    ">  **Integer Programming** is the class of problems defined as the optimization of a linear function, subject to linear constraints over integer variables. \n",
    "\n",
    ">  **Constraint Programming** problems generally have discrete decision variables, but the constraints can be logical, and the arithmetic expressions are not restricted to being linear. \n",
    "\n",
    "For the purposes of this tutorial, we will illustrate a solution with mathematical programming (MIP).  \n"
   ]
  },
  {
   "cell_type": "markdown",
   "metadata": {
    "render": true
   },
   "source": [
    "## How  decision optimization can help\n",
    "\n",
    "* Prescriptive analytics (decision optimization) technology recommends actions that are based on desired outcomes.  It takes into account specific scenarios, resources, and knowledge of past and current events. With this insight, your organization can make better decisions and have greater control of business outcomes.  \n",
    "\n",
    "* Prescriptive analytics is the next step on the path to insight-based actions. It creates value through synergy with predictive analytics, which analyzes data to predict future outcomes.  \n",
    "\n",
    "* Prescriptive analytics takes that insight to the next level by suggesting the optimal way to handle that future situation. Organizations that can act fast in dynamic conditions and make superior decisions in uncertain environments gain a strong competitive advantage.  \n",
    "<br/>\n",
    "\n",
    "<u>With prescriptive analytics, you can:</u> \n",
    "\n",
    "* Automate the complex decisions and trade-offs to better manage your limited resources.\n",
    "* Take advantage of a future opportunity or mitigate a future risk.\n",
    "* Proactively update recommendations based on changing events.\n",
    "* Meet operational goals, increase customer loyalty, prevent threats and fraud, and optimize business processes.\n",
    "\n"
   ]
  },
  {
   "cell_type": "markdown",
   "metadata": {},
   "source": [
    "## Use decision optimization"
   ]
  },
  {
   "cell_type": "markdown",
   "metadata": {},
   "source": [
    "### Step 1: Import the library\n",
    "\n",
    "Run the following code to import the Decision Optimization CPLEX Modeling library.  The *DOcplex* library contains the two modeling packages, Mathematical Programming (docplex.mp) and Constraint Programming (docplex.cp)."
   ]
  },
  {
   "cell_type": "code",
   "execution_count": 38,
   "metadata": {
    "collapsed": false
   },
   "outputs": [],
   "source": [
    "import sys\n",
    "try:\n",
    "    import docplex.mp\n",
    "except:\n",
    "    raise Exception('Please install docplex. See https://pypi.org/project/docplex/')"
   ]
  },
  {
   "cell_type": "markdown",
   "metadata": {},
   "source": [
    "If *CPLEX* is not installed, install CPLEX Community edition."
   ]
  },
  {
   "cell_type": "code",
   "execution_count": 39,
   "metadata": {
    "collapsed": true
   },
   "outputs": [],
   "source": [
    "try:\n",
    "    import cplex\n",
    "except:\n",
    "    raise Exception('Please install CPLEX. See https://pypi.org/project/cplex/')"
   ]
  },
  {
   "cell_type": "markdown",
   "metadata": {
    "render": true
   },
   "source": [
    "### Step 2: Model the data\n",
    "In this scenario, the data is simple. There are eight teams in each division, and the teams must play each team in the division once and each team outside the division once.\n",
    "\n",
    "Use a Python module, *Collections*, which implements some data structures that will help solve some problems.  *Named tuples* helps to define meaning of each position in a tuple.  This helps the code be more readable and self-documenting. You can use named tuples in any place where you use tuples. \n",
    "\n",
    "In this example, you create a *namedtuple* to contain information for points.  You are also defining some of the parameters."
   ]
  },
  {
   "cell_type": "code",
   "execution_count": 40,
   "metadata": {
    "collapsed": true
   },
   "outputs": [],
   "source": [
    "# Teams in 1st division\n",
    "team_div1 = [\"Baltimore Ravens\",\"Cincinnati Bengals\", \"Cleveland Browns\",\"Pittsburgh Steelers\",\"Houston Texans\",\n",
    "                \"Indianapolis Colts\",\"Jacksonville Jaguars\",\"Tennessee Titans\",\"Buffalo Bills\",\"Miami Dolphins\",\n",
    "                \"New England Patriots\",\"New York Jets\",\"Denver Broncos\",\"Kansas City Chiefs\",\"Oakland Raiders\",\n",
    "                \"San Diego Chargers\"]\n",
    "\n",
    "# Teams in 2nd division\n",
    "team_div2 = [\"Chicago Bears\",\"Detroit Lions\",\"Green Bay Packers\",\"Minnesota Vikings\",\"Atlanta Falcons\",\n",
    "                \"Carolina Panthers\",\"New Orleans Saints\",\"Tampa Bay Buccaneers\",\"Dallas Cowboys\",\"New York Giants\",\n",
    "                \"Philadelphia Eagles\",\"Washington Redskins\",\"Arizona Cardinals\",\"San Francisco 49ers\",\n",
    "                \"Seattle Seahawks\",\"St. Louis Rams\"]"
   ]
  },
  {
   "cell_type": "code",
   "execution_count": 67,
   "metadata": {
    "collapsed": true
   },
   "outputs": [],
   "source": [
    "#number_of_matches_to_play = 1  # Number of match to play between two teams on the league\n",
    "# Schedule parameters\n",
    "nb_teams_in_division = 5\n",
    "max_teams_in_division = 10\n",
    "number_of_matches_inside_division = 1\n",
    "number_of_matches_outside_division = 1"
   ]
  },
  {
   "cell_type": "markdown",
   "metadata": {},
   "source": [
    "Use basic HTML and a stylesheet to format the data."
   ]
  },
  {
   "cell_type": "code",
   "execution_count": 42,
   "metadata": {
    "collapsed": false
   },
   "outputs": [
    {
     "data": {
      "text/html": [
       "<style>\n",
       "body {\n",
       "    margin: 0;\n",
       "    font-family: Helvetica;\n",
       "}\n",
       "table.dataframe {\n",
       "    border-collapse: collapse;\n",
       "    border: none;\n",
       "}\n",
       "table.dataframe tr {\n",
       "    border: none;\n",
       "}\n",
       "table.dataframe td, table.dataframe th {\n",
       "    margin: 0;\n",
       "    border: 1px solid white;\n",
       "    padding-left: 0.25em;\n",
       "    padding-right: 0.25em;\n",
       "}\n",
       "table.dataframe th:not(:empty) {\n",
       "    background-color: #fec;\n",
       "    text-align: left;\n",
       "    font-weight: normal;\n",
       "}\n",
       "table.dataframe tr:nth-child(2) th:empty {\n",
       "    border-left: none;\n",
       "    border-right: 1px dashed #888;\n",
       "}\n",
       "table.dataframe td {\n",
       "    border: 2px solid #ccf;\n",
       "    background-color: #f4f4ff;\n",
       "}\n",
       "    table.dataframe thead th:first-child {\n",
       "        display: none;\n",
       "    }\n",
       "    table.dataframe tbody th {\n",
       "        display: none;\n",
       "    }\n",
       "</style>"
      ],
      "text/plain": [
       "<IPython.core.display.HTML object>"
      ]
     },
     "execution_count": 42,
     "metadata": {},
     "output_type": "execute_result"
    }
   ],
   "source": [
    "CSS = \"\"\"\n",
    "body {\n",
    "    margin: 0;\n",
    "    font-family: Helvetica;\n",
    "}\n",
    "table.dataframe {\n",
    "    border-collapse: collapse;\n",
    "    border: none;\n",
    "}\n",
    "table.dataframe tr {\n",
    "    border: none;\n",
    "}\n",
    "table.dataframe td, table.dataframe th {\n",
    "    margin: 0;\n",
    "    border: 1px solid white;\n",
    "    padding-left: 0.25em;\n",
    "    padding-right: 0.25em;\n",
    "}\n",
    "table.dataframe th:not(:empty) {\n",
    "    background-color: #fec;\n",
    "    text-align: left;\n",
    "    font-weight: normal;\n",
    "}\n",
    "table.dataframe tr:nth-child(2) th:empty {\n",
    "    border-left: none;\n",
    "    border-right: 1px dashed #888;\n",
    "}\n",
    "table.dataframe td {\n",
    "    border: 2px solid #ccf;\n",
    "    background-color: #f4f4ff;\n",
    "}\n",
    "    table.dataframe thead th:first-child {\n",
    "        display: none;\n",
    "    }\n",
    "    table.dataframe tbody th {\n",
    "        display: none;\n",
    "    }\n",
    "\"\"\"\n",
    "\n",
    "from IPython.core.display import HTML\n",
    "HTML('<style>{}</style>'.format(CSS))"
   ]
  },
  {
   "cell_type": "markdown",
   "metadata": {},
   "source": [
    "Now you will import the *pandas* library. Pandas is an open source Python library for data analysis. It uses two data structures, *Series* and *DataFrame*, which are built on top of *NumPy*.\n",
    "\n",
    "A **Series** is a one-dimensional object similar to an array, list, or column in a table. It will assign a labeled index to each item in the series. By default, each item receives an index label from 0 to N, where N is the length of the series minus one.\n",
    "\n",
    "A **DataFrame** is a tabular data structure comprised of rows and columns, similar to a spreadsheet, database table, or R's data.frame object. Think of a DataFrame as a group of Series objects that share an index (the column names).\n",
    "\n",
    "In the example, each division (the AFC and the NFC) is part of a DataFrame."
   ]
  },
  {
   "cell_type": "code",
   "execution_count": 43,
   "metadata": {
    "collapsed": false
   },
   "outputs": [],
   "source": [
    "import pandas as pd\n",
    "\n",
    "team1 = pd.DataFrame(team_div1)\n",
    "team2 = pd.DataFrame(team_div2)\n",
    "team1.columns = [\"AFC\"]\n",
    "team2.columns = [\"NFC\"]\n",
    "\n",
    "teams = pd.concat([team1,team2], axis=1)"
   ]
  },
  {
   "cell_type": "markdown",
   "metadata": {},
   "source": [
    "The following *display* function is a tool to show different representations of objects. When you issue the  *display(teams)* command, you are sending the output to the notebook so that the result is stored in the document."
   ]
  },
  {
   "cell_type": "code",
   "execution_count": 44,
   "metadata": {
    "collapsed": false
   },
   "outputs": [
    {
     "data": {
      "text/html": [
       "<div>\n",
       "<style scoped>\n",
       "    .dataframe tbody tr th:only-of-type {\n",
       "        vertical-align: middle;\n",
       "    }\n",
       "\n",
       "    .dataframe tbody tr th {\n",
       "        vertical-align: top;\n",
       "    }\n",
       "\n",
       "    .dataframe thead th {\n",
       "        text-align: right;\n",
       "    }\n",
       "</style>\n",
       "<table border=\"1\" class=\"dataframe\">\n",
       "  <thead>\n",
       "    <tr style=\"text-align: right;\">\n",
       "      <th></th>\n",
       "      <th>AFC</th>\n",
       "      <th>NFC</th>\n",
       "    </tr>\n",
       "  </thead>\n",
       "  <tbody>\n",
       "    <tr>\n",
       "      <th>0</th>\n",
       "      <td>Baltimore Ravens</td>\n",
       "      <td>Chicago Bears</td>\n",
       "    </tr>\n",
       "    <tr>\n",
       "      <th>1</th>\n",
       "      <td>Cincinnati Bengals</td>\n",
       "      <td>Detroit Lions</td>\n",
       "    </tr>\n",
       "    <tr>\n",
       "      <th>2</th>\n",
       "      <td>Cleveland Browns</td>\n",
       "      <td>Green Bay Packers</td>\n",
       "    </tr>\n",
       "    <tr>\n",
       "      <th>3</th>\n",
       "      <td>Pittsburgh Steelers</td>\n",
       "      <td>Minnesota Vikings</td>\n",
       "    </tr>\n",
       "    <tr>\n",
       "      <th>4</th>\n",
       "      <td>Houston Texans</td>\n",
       "      <td>Atlanta Falcons</td>\n",
       "    </tr>\n",
       "    <tr>\n",
       "      <th>5</th>\n",
       "      <td>Indianapolis Colts</td>\n",
       "      <td>Carolina Panthers</td>\n",
       "    </tr>\n",
       "    <tr>\n",
       "      <th>6</th>\n",
       "      <td>Jacksonville Jaguars</td>\n",
       "      <td>New Orleans Saints</td>\n",
       "    </tr>\n",
       "    <tr>\n",
       "      <th>7</th>\n",
       "      <td>Tennessee Titans</td>\n",
       "      <td>Tampa Bay Buccaneers</td>\n",
       "    </tr>\n",
       "    <tr>\n",
       "      <th>8</th>\n",
       "      <td>Buffalo Bills</td>\n",
       "      <td>Dallas Cowboys</td>\n",
       "    </tr>\n",
       "    <tr>\n",
       "      <th>9</th>\n",
       "      <td>Miami Dolphins</td>\n",
       "      <td>New York Giants</td>\n",
       "    </tr>\n",
       "    <tr>\n",
       "      <th>10</th>\n",
       "      <td>New England Patriots</td>\n",
       "      <td>Philadelphia Eagles</td>\n",
       "    </tr>\n",
       "    <tr>\n",
       "      <th>11</th>\n",
       "      <td>New York Jets</td>\n",
       "      <td>Washington Redskins</td>\n",
       "    </tr>\n",
       "    <tr>\n",
       "      <th>12</th>\n",
       "      <td>Denver Broncos</td>\n",
       "      <td>Arizona Cardinals</td>\n",
       "    </tr>\n",
       "    <tr>\n",
       "      <th>13</th>\n",
       "      <td>Kansas City Chiefs</td>\n",
       "      <td>San Francisco 49ers</td>\n",
       "    </tr>\n",
       "    <tr>\n",
       "      <th>14</th>\n",
       "      <td>Oakland Raiders</td>\n",
       "      <td>Seattle Seahawks</td>\n",
       "    </tr>\n",
       "    <tr>\n",
       "      <th>15</th>\n",
       "      <td>San Diego Chargers</td>\n",
       "      <td>St. Louis Rams</td>\n",
       "    </tr>\n",
       "  </tbody>\n",
       "</table>\n",
       "</div>"
      ],
      "text/plain": [
       "                     AFC                   NFC\n",
       "0       Baltimore Ravens         Chicago Bears\n",
       "1     Cincinnati Bengals         Detroit Lions\n",
       "2       Cleveland Browns     Green Bay Packers\n",
       "3    Pittsburgh Steelers     Minnesota Vikings\n",
       "4         Houston Texans       Atlanta Falcons\n",
       "5     Indianapolis Colts     Carolina Panthers\n",
       "6   Jacksonville Jaguars    New Orleans Saints\n",
       "7       Tennessee Titans  Tampa Bay Buccaneers\n",
       "8          Buffalo Bills        Dallas Cowboys\n",
       "9         Miami Dolphins       New York Giants\n",
       "10  New England Patriots   Philadelphia Eagles\n",
       "11         New York Jets   Washington Redskins\n",
       "12        Denver Broncos     Arizona Cardinals\n",
       "13    Kansas City Chiefs   San Francisco 49ers\n",
       "14       Oakland Raiders      Seattle Seahawks\n",
       "15    San Diego Chargers        St. Louis Rams"
      ]
     },
     "metadata": {},
     "output_type": "display_data"
    }
   ],
   "source": [
    "from IPython.display import display\n",
    "\n",
    "display(teams)"
   ]
  },
  {
   "cell_type": "markdown",
   "metadata": {
    "render": true
   },
   "source": [
    "### Step 3: Prepare the data\n",
    "\n",
    "Given the number of teams in each division and the number of intradivisional and interdivisional games to be played, you can calculate the total number of teams and the number of weeks in the schedule, assuming every team plays exactly one game per week. \n",
    "\n",
    "\n",
    "The season is split into halves, and the number of the intradivisional games that each team must play in the first half of the season is calculated."
   ]
  },
  {
   "cell_type": "code",
   "execution_count": 68,
   "metadata": {
    "collapsed": false
   },
   "outputs": [],
   "source": [
    "import numpy as np\n",
    "    \n",
    "nb_teams = 2 * nb_teams_in_division\n",
    "teams = range(nb_teams)\n",
    "\n",
    "# Calculate the number of weeks necessary\n",
    "nb_inside_div = (nb_teams_in_division - 1) * number_of_matches_inside_division\n",
    "nb_outside_div = nb_teams_in_division * number_of_matches_outside_division\n",
    "nb_weeks = nb_inside_div + nb_outside_div\n",
    "\n",
    "\n",
    "# Weeks to schedule\n",
    "weeks = range(nb_weeks)\n",
    "\n",
    "# Season is split into two halves\n",
    "first_half_weeks = range(int(np.floor(nb_weeks / 2)))\n",
    "nb_first_half_games = int(np.floor(nb_weeks / 3))\n"
   ]
  },
  {
   "cell_type": "code",
   "execution_count": 69,
   "metadata": {},
   "outputs": [
    {
     "data": {
      "text/plain": [
       "4"
      ]
     },
     "execution_count": 69,
     "metadata": {},
     "output_type": "execute_result"
    }
   ],
   "source": [
    "nb_inside_div"
   ]
  },
  {
   "cell_type": "code",
   "execution_count": 70,
   "metadata": {
    "collapsed": false
   },
   "outputs": [],
   "source": [
    "from collections import namedtuple\n",
    "\n",
    "match = namedtuple(\"match\",[\"team1\",\"team2\",\"is_divisional\"])\n",
    "\n",
    "matches = {match(t1,t2, 1 if ( t2 <= nb_teams_in_division or t1 > nb_teams_in_division) else 0)  \n",
    "           for t1 in teams for t2 in teams if t1 < t2}"
   ]
  },
  {
   "cell_type": "markdown",
   "metadata": {},
   "source": [
    "Number of games to play between pairs depends on whether the pairing is intradivisional or not."
   ]
  },
  {
   "cell_type": "code",
   "execution_count": 71,
   "metadata": {
    "collapsed": false
   },
   "outputs": [],
   "source": [
    "nb_play = { m :  number_of_matches_inside_division if m.is_divisional==1 \n",
    "                                                   else number_of_matches_outside_division\n",
    "                   for m in matches}"
   ]
  },
  {
   "cell_type": "code",
   "execution_count": 72,
   "metadata": {},
   "outputs": [
    {
     "data": {
      "text/plain": [
       "{match(team1=0, team2=1, is_divisional=1),\n",
       " match(team1=0, team2=2, is_divisional=1),\n",
       " match(team1=0, team2=3, is_divisional=1),\n",
       " match(team1=0, team2=4, is_divisional=1),\n",
       " match(team1=0, team2=5, is_divisional=1),\n",
       " match(team1=0, team2=6, is_divisional=0),\n",
       " match(team1=0, team2=7, is_divisional=0),\n",
       " match(team1=0, team2=8, is_divisional=0),\n",
       " match(team1=0, team2=9, is_divisional=0),\n",
       " match(team1=1, team2=2, is_divisional=1),\n",
       " match(team1=1, team2=3, is_divisional=1),\n",
       " match(team1=1, team2=4, is_divisional=1),\n",
       " match(team1=1, team2=5, is_divisional=1),\n",
       " match(team1=1, team2=6, is_divisional=0),\n",
       " match(team1=1, team2=7, is_divisional=0),\n",
       " match(team1=1, team2=8, is_divisional=0),\n",
       " match(team1=1, team2=9, is_divisional=0),\n",
       " match(team1=2, team2=3, is_divisional=1),\n",
       " match(team1=2, team2=4, is_divisional=1),\n",
       " match(team1=2, team2=5, is_divisional=1),\n",
       " match(team1=2, team2=6, is_divisional=0),\n",
       " match(team1=2, team2=7, is_divisional=0),\n",
       " match(team1=2, team2=8, is_divisional=0),\n",
       " match(team1=2, team2=9, is_divisional=0),\n",
       " match(team1=3, team2=4, is_divisional=1),\n",
       " match(team1=3, team2=5, is_divisional=1),\n",
       " match(team1=3, team2=6, is_divisional=0),\n",
       " match(team1=3, team2=7, is_divisional=0),\n",
       " match(team1=3, team2=8, is_divisional=0),\n",
       " match(team1=3, team2=9, is_divisional=0),\n",
       " match(team1=4, team2=5, is_divisional=1),\n",
       " match(team1=4, team2=6, is_divisional=0),\n",
       " match(team1=4, team2=7, is_divisional=0),\n",
       " match(team1=4, team2=8, is_divisional=0),\n",
       " match(team1=4, team2=9, is_divisional=0),\n",
       " match(team1=5, team2=6, is_divisional=0),\n",
       " match(team1=5, team2=7, is_divisional=0),\n",
       " match(team1=5, team2=8, is_divisional=0),\n",
       " match(team1=5, team2=9, is_divisional=0),\n",
       " match(team1=6, team2=7, is_divisional=1),\n",
       " match(team1=6, team2=8, is_divisional=1),\n",
       " match(team1=6, team2=9, is_divisional=1),\n",
       " match(team1=7, team2=8, is_divisional=1),\n",
       " match(team1=7, team2=9, is_divisional=1),\n",
       " match(team1=8, team2=9, is_divisional=1)}"
      ]
     },
     "execution_count": 72,
     "metadata": {},
     "output_type": "execute_result"
    }
   ],
   "source": [
    "matches"
   ]
  },
  {
   "cell_type": "markdown",
   "metadata": {
    "render": true
   },
   "source": [
    "### Step 4: Set up the prescriptive model"
   ]
  },
  {
   "cell_type": "code",
   "execution_count": 50,
   "metadata": {
    "collapsed": false
   },
   "outputs": [
    {
     "name": "stdout",
     "output_type": "stream",
     "text": [
      "* system is: Windows 64bit\n",
      "* Python is present, version is 3.6.8\n",
      "* docplex is present, version is (2, 4, 61)\n",
      "* CPLEX wrapper is present, version is 12.8.0.0, located at: C:\\Miniconda3\\lib\\site-packages\n"
     ]
    }
   ],
   "source": [
    "from docplex.mp.environment import Environment\n",
    "env = Environment()\n",
    "env.print_information()"
   ]
  },
  {
   "cell_type": "markdown",
   "metadata": {},
   "source": [
    "#### Create the DOcplex model\n",
    "The model contains all the business constraints and defines the objective."
   ]
  },
  {
   "cell_type": "code",
   "execution_count": 51,
   "metadata": {
    "collapsed": true
   },
   "outputs": [],
   "source": [
    "from docplex.mp.model import Model\n",
    "\n",
    "mdl = Model(\"sports\")"
   ]
  },
  {
   "cell_type": "markdown",
   "metadata": {},
   "source": [
    "#### Define the decision variables"
   ]
  },
  {
   "cell_type": "code",
   "execution_count": 52,
   "metadata": {
    "collapsed": false
   },
   "outputs": [],
   "source": [
    "plays = mdl.binary_var_matrix(matches, weeks, lambda ij: \"x_%s_%d\" %(str(ij[0]), ij[1]))"
   ]
  },
  {
   "cell_type": "markdown",
   "metadata": {
    "render": true
   },
   "source": [
    "#### Express the business constraints"
   ]
  },
  {
   "cell_type": "markdown",
   "metadata": {},
   "source": [
    "##### Each pair of teams must play the correct number of games."
   ]
  },
  {
   "cell_type": "code",
   "execution_count": 53,
   "metadata": {
    "collapsed": false
   },
   "outputs": [
    {
     "name": "stdout",
     "output_type": "stream",
     "text": [
      "Model: sports\n",
      " - number of variables: 15376\n",
      "   - binary=15376, integer=0, continuous=0\n",
      " - number of constraints: 496\n",
      "   - linear=496\n",
      " - parameters: defaults\n"
     ]
    }
   ],
   "source": [
    "mdl.add_constraints( mdl.sum(plays[m,w]  for w in weeks) == nb_play[m]\n",
    "                   for m in matches)\n",
    "mdl.print_information()"
   ]
  },
  {
   "cell_type": "markdown",
   "metadata": {},
   "source": [
    "##### Each team must play exactly once in a week.\t "
   ]
  },
  {
   "cell_type": "code",
   "execution_count": 54,
   "metadata": {
    "collapsed": false
   },
   "outputs": [
    {
     "name": "stdout",
     "output_type": "stream",
     "text": [
      "Model: sports\n",
      " - number of variables: 15376\n",
      "   - binary=15376, integer=0, continuous=0\n",
      " - number of constraints: 1488\n",
      "   - linear=1488\n",
      " - parameters: defaults\n"
     ]
    }
   ],
   "source": [
    "mdl.add_constraints( mdl.sum(plays[m,w] for m in matches if (m.team1 == t or m.team2 == t) )  == 1\n",
    "                   for w in weeks for t in teams)\n",
    "mdl.print_information()"
   ]
  },
  {
   "cell_type": "markdown",
   "metadata": {},
   "source": [
    "##### Games between the same teams cannot be on successive weeks."
   ]
  },
  {
   "cell_type": "code",
   "execution_count": 55,
   "metadata": {
    "collapsed": false
   },
   "outputs": [
    {
     "name": "stdout",
     "output_type": "stream",
     "text": [
      "Model: sports\n",
      " - number of variables: 15376\n",
      "   - binary=15376, integer=0, continuous=0\n",
      " - number of constraints: 16368\n",
      "   - linear=16368\n",
      " - parameters: defaults\n"
     ]
    }
   ],
   "source": [
    "mdl.add_constraints( plays[m,w] + plays[m,w+1] <= 1 \n",
    "                   for w in weeks\n",
    "                   for m in matches\n",
    "                   if w < nb_weeks-1)\n",
    "mdl.print_information()"
   ]
  },
  {
   "cell_type": "markdown",
   "metadata": {},
   "source": [
    "##### Some intradivisional games should be in the first half.    "
   ]
  },
  {
   "cell_type": "code",
   "execution_count": 56,
   "metadata": {
    "collapsed": false
   },
   "outputs": [
    {
     "name": "stdout",
     "output_type": "stream",
     "text": [
      "Model: sports\n",
      " - number of variables: 15376\n",
      "   - binary=15376, integer=0, continuous=0\n",
      " - number of constraints: 16400\n",
      "   - linear=16400\n",
      " - parameters: defaults\n"
     ]
    }
   ],
   "source": [
    "mdl.add_constraints( mdl.sum(plays[m,w]  for w in first_half_weeks for  m in matches \n",
    "                            if (((m.team1 == t or m.team2 == t) and m.is_divisional == 1 )))\n",
    "                    >= nb_first_half_games\n",
    "                   for t in teams)\n",
    "mdl.print_information()"
   ]
  },
  {
   "cell_type": "markdown",
   "metadata": {
    "render": true
   },
   "source": [
    "#### Express the objective\n",
    "The objective function for this example is designed to force intradivisional games to occur as late in the season as possible. The incentive for intradivisional games increases by week. There is no incentive for interdivisional games. "
   ]
  },
  {
   "cell_type": "code",
   "execution_count": 57,
   "metadata": {
    "collapsed": false
   },
   "outputs": [],
   "source": [
    "gain = { w : w*w for w in weeks}\n",
    "\n",
    "# If an intradivisional pair plays in week w, Gain[w] is added to the objective.\n",
    "mdl.maximize( mdl.sum (m.is_divisional * gain[w] * plays[m,w] for m in matches for w in weeks) )"
   ]
  },
  {
   "cell_type": "markdown",
   "metadata": {
    "render": true
   },
   "source": [
    "### Solve with Decision Optimization \n",
    "\n",
    "You will get the best solution found after n seconds, due to a time limit parameter.\n"
   ]
  },
  {
   "cell_type": "code",
   "execution_count": 58,
   "metadata": {
    "collapsed": false
   },
   "outputs": [
    {
     "name": "stdout",
     "output_type": "stream",
     "text": [
      "Model: sports\n",
      " - number of variables: 15376\n",
      "   - binary=15376, integer=0, continuous=0\n",
      " - number of constraints: 16400\n",
      "   - linear=16400\n",
      " - parameters: defaults\n",
      "* model sports solved with objective = 71665\n"
     ]
    }
   ],
   "source": [
    "mdl.print_information()\n",
    "\n",
    "assert mdl.solve(), \"!!! Solve of the model fails\"\n",
    "mdl.report()"
   ]
  },
  {
   "cell_type": "markdown",
   "metadata": {
    "render": true
   },
   "source": [
    "### Step 5: Investigate the solution and then run an example analysis"
   ]
  },
  {
   "cell_type": "markdown",
   "metadata": {},
   "source": [
    "Determine which of the scheduled games will be a replay of one of the last 10 Super Bowls.<br>\n",
    "We start by creating a pandas DataFrame that contains the year and teams who played the last 10 Super Bowls."
   ]
  },
  {
   "cell_type": "code",
   "execution_count": 59,
   "metadata": {
    "collapsed": false
   },
   "outputs": [],
   "source": [
    "try: # Python 2\n",
    "    team_league = dict({t : team_div1[t] for t in range(nb_teams_in_division) }.items() +  \\\n",
    "                {t+nb_teams_in_division : team_div2[t] for t in range(nb_teams_in_division) }.items()\n",
    "            )\n",
    "except: # Python 3\n",
    "    team_league = dict(list({t : team_div1[t] for t in range(nb_teams_in_division) }.items()) +  \\\n",
    "                list({t+nb_teams_in_division : team_div2[t] for t in range(nb_teams_in_division) }.items()))"
   ]
  },
  {
   "cell_type": "code",
   "execution_count": 60,
   "metadata": {
    "collapsed": false
   },
   "outputs": [],
   "source": [
    "sol = namedtuple(\"solution\",[\"week\",\"is_divisional\", \"team1\", \"team2\"])\n",
    "\n",
    "solution = [sol(w, m.is_divisional, team_league[m.team1], team_league[m.team2]) for m in matches for w in weeks if plays[m,w].solution_value == 1]"
   ]
  },
  {
   "cell_type": "code",
   "execution_count": 61,
   "metadata": {},
   "outputs": [
    {
     "data": {
      "text/plain": [
       "[solution(week=28, is_divisional=1, team1='Tampa Bay Buccaneers', team2='Philadelphia Eagles'),\n",
       " solution(week=21, is_divisional=0, team1='Tennessee Titans', team2='New Orleans Saints'),\n",
       " solution(week=18, is_divisional=0, team1='Denver Broncos', team2='Seattle Seahawks'),\n",
       " solution(week=24, is_divisional=0, team1='Cincinnati Bengals', team2='Seattle Seahawks'),\n",
       " solution(week=30, is_divisional=1, team1='Dallas Cowboys', team2='Arizona Cardinals'),\n",
       " solution(week=14, is_divisional=1, team1='Baltimore Ravens', team2='Cleveland Browns'),\n",
       " solution(week=0, is_divisional=0, team1='New York Jets', team2='Tampa Bay Buccaneers'),\n",
       " solution(week=24, is_divisional=0, team1='Chicago Bears', team2='San Francisco 49ers'),\n",
       " solution(week=15, is_divisional=0, team1='Houston Texans', team2='Seattle Seahawks'),\n",
       " solution(week=15, is_divisional=0, team1='Miami Dolphins', team2='Green Bay Packers'),\n",
       " solution(week=20, is_divisional=0, team1='Oakland Raiders', team2='New Orleans Saints'),\n",
       " solution(week=14, is_divisional=1, team1='Dallas Cowboys', team2='New York Giants'),\n",
       " solution(week=11, is_divisional=1, team1='Baltimore Ravens', team2='San Diego Chargers'),\n",
       " solution(week=17, is_divisional=0, team1='Buffalo Bills', team2='San Francisco 49ers'),\n",
       " solution(week=29, is_divisional=1, team1='Houston Texans', team2='Denver Broncos'),\n",
       " solution(week=12, is_divisional=1, team1='New Orleans Saints', team2='San Francisco 49ers'),\n",
       " solution(week=18, is_divisional=0, team1='Jacksonville Jaguars', team2='Detroit Lions'),\n",
       " solution(week=23, is_divisional=0, team1='New York Jets', team2='Washington Redskins'),\n",
       " solution(week=18, is_divisional=0, team1='Baltimore Ravens', team2='San Francisco 49ers'),\n",
       " solution(week=17, is_divisional=0, team1='New England Patriots', team2='Dallas Cowboys'),\n",
       " solution(week=17, is_divisional=0, team1='Pittsburgh Steelers', team2='Washington Redskins'),\n",
       " solution(week=16, is_divisional=0, team1='Buffalo Bills', team2='Detroit Lions'),\n",
       " solution(week=9, is_divisional=1, team1='Carolina Panthers', team2='San Francisco 49ers'),\n",
       " solution(week=18, is_divisional=0, team1='Kansas City Chiefs', team2='Arizona Cardinals'),\n",
       " solution(week=24, is_divisional=0, team1='Cleveland Browns', team2='Dallas Cowboys'),\n",
       " solution(week=7, is_divisional=1, team1='Pittsburgh Steelers', team2='Miami Dolphins'),\n",
       " solution(week=21, is_divisional=0, team1='Denver Broncos', team2='Minnesota Vikings'),\n",
       " solution(week=19, is_divisional=0, team1='Indianapolis Colts', team2='Arizona Cardinals'),\n",
       " solution(week=26, is_divisional=0, team1='New England Patriots', team2='Atlanta Falcons'),\n",
       " solution(week=14, is_divisional=1, team1='Green Bay Packers', team2='New Orleans Saints'),\n",
       " solution(week=8, is_divisional=1, team1='New England Patriots', team2='San Diego Chargers'),\n",
       " solution(week=4, is_divisional=1, team1='Arizona Cardinals', team2='Seattle Seahawks'),\n",
       " solution(week=30, is_divisional=1, team1='Pittsburgh Steelers', team2='Houston Texans'),\n",
       " solution(week=23, is_divisional=0, team1='Miami Dolphins', team2='San Francisco 49ers'),\n",
       " solution(week=9, is_divisional=1, team1='Green Bay Packers', team2='Washington Redskins'),\n",
       " solution(week=12, is_divisional=1, team1='Atlanta Falcons', team2='Seattle Seahawks'),\n",
       " solution(week=23, is_divisional=0, team1='Tennessee Titans', team2='Detroit Lions'),\n",
       " solution(week=20, is_divisional=0, team1='Denver Broncos', team2='St. Louis Rams'),\n",
       " solution(week=3, is_divisional=0, team1='Cincinnati Bengals', team2='San Francisco 49ers'),\n",
       " solution(week=28, is_divisional=1, team1='Miami Dolphins', team2='San Diego Chargers'),\n",
       " solution(week=18, is_divisional=0, team1='New York Jets', team2='New Orleans Saints'),\n",
       " solution(week=26, is_divisional=0, team1='Chicago Bears', team2='Seattle Seahawks'),\n",
       " solution(week=5, is_divisional=0, team1='Houston Texans', team2='St. Louis Rams'),\n",
       " solution(week=17, is_divisional=0, team1='Miami Dolphins', team2='Detroit Lions'),\n",
       " solution(week=14, is_divisional=1, team1='Detroit Lions', team2='Minnesota Vikings'),\n",
       " solution(week=12, is_divisional=0, team1='Oakland Raiders', team2='Tampa Bay Buccaneers'),\n",
       " solution(week=30, is_divisional=1, team1='Miami Dolphins', team2='New England Patriots'),\n",
       " solution(week=25, is_divisional=0, team1='Tennessee Titans', team2='San Francisco 49ers'),\n",
       " solution(week=9, is_divisional=0, team1='Buffalo Bills', team2='Seattle Seahawks'),\n",
       " solution(week=10, is_divisional=1, team1='Tennessee Titans', team2='New England Patriots'),\n",
       " solution(week=30, is_divisional=1, team1='Detroit Lions', team2='Seattle Seahawks'),\n",
       " solution(week=7, is_divisional=1, team1='Minnesota Vikings', team2='Washington Redskins'),\n",
       " solution(week=24, is_divisional=0, team1='Jacksonville Jaguars', team2='New Orleans Saints'),\n",
       " solution(week=22, is_divisional=0, team1='New York Jets', team2='Philadelphia Eagles'),\n",
       " solution(week=20, is_divisional=0, team1='Baltimore Ravens', team2='Seattle Seahawks'),\n",
       " solution(week=13, is_divisional=1, team1='Buffalo Bills', team2='Denver Broncos'),\n",
       " solution(week=11, is_divisional=1, team1='Philadelphia Eagles', team2='San Francisco 49ers'),\n",
       " solution(week=13, is_divisional=1, team1='Cleveland Browns', team2='Tennessee Titans'),\n",
       " solution(week=27, is_divisional=1, team1='Minnesota Vikings', team2='New Orleans Saints'),\n",
       " solution(week=15, is_divisional=0, team1='New England Patriots', team2='New York Giants'),\n",
       " solution(week=20, is_divisional=0, team1='Pittsburgh Steelers', team2='Philadelphia Eagles'),\n",
       " solution(week=2, is_divisional=0, team1='Buffalo Bills', team2='Green Bay Packers'),\n",
       " solution(week=21, is_divisional=1, team1='Buffalo Bills', team2='Miami Dolphins'),\n",
       " solution(week=30, is_divisional=1, team1='Cleveland Browns', team2='Oakland Raiders'),\n",
       " solution(week=26, is_divisional=0, team1='Kansas City Chiefs', team2='Washington Redskins'),\n",
       " solution(week=10, is_divisional=0, team1='Jacksonville Jaguars', team2='Philadelphia Eagles'),\n",
       " solution(week=18, is_divisional=0, team1='Cleveland Browns', team2='New York Giants'),\n",
       " solution(week=7, is_divisional=1, team1='Jacksonville Jaguars', team2='Kansas City Chiefs'),\n",
       " solution(week=5, is_divisional=1, team1='New York Giants', team2='San Francisco 49ers'),\n",
       " solution(week=26, is_divisional=1, team1='Cincinnati Bengals', team2='Tennessee Titans'),\n",
       " solution(week=20, is_divisional=0, team1='Indianapolis Colts', team2='Washington Redskins'),\n",
       " solution(week=18, is_divisional=0, team1='New England Patriots', team2='Carolina Panthers'),\n",
       " solution(week=18, is_divisional=0, team1='San Diego Chargers', team2='Minnesota Vikings'),\n",
       " solution(week=12, is_divisional=1, team1='Baltimore Ravens', team2='Chicago Bears'),\n",
       " solution(week=28, is_divisional=1, team1='Cincinnati Bengals', team2='Cleveland Browns'),\n",
       " solution(week=6, is_divisional=0, team1='Miami Dolphins', team2='Arizona Cardinals'),\n",
       " solution(week=16, is_divisional=1, team1='Indianapolis Colts', team2='Kansas City Chiefs'),\n",
       " solution(week=13, is_divisional=1, team1='Kansas City Chiefs', team2='Chicago Bears'),\n",
       " solution(week=6, is_divisional=1, team1='Cincinnati Bengals', team2='New York Jets'),\n",
       " solution(week=26, is_divisional=0, team1='Denver Broncos', team2='Dallas Cowboys'),\n",
       " solution(week=17, is_divisional=0, team1='Indianapolis Colts', team2='Tampa Bay Buccaneers'),\n",
       " solution(week=17, is_divisional=0, team1='Cincinnati Bengals', team2='Arizona Cardinals'),\n",
       " solution(week=7, is_divisional=1, team1='Tampa Bay Buccaneers', team2='San Francisco 49ers'),\n",
       " solution(week=28, is_divisional=1, team1='Dallas Cowboys', team2='Seattle Seahawks'),\n",
       " solution(week=2, is_divisional=1, team1='Baltimore Ravens', team2='Houston Texans'),\n",
       " solution(week=18, is_divisional=0, team1='Chicago Bears', team2='St. Louis Rams'),\n",
       " solution(week=21, is_divisional=0, team1='Houston Texans', team2='Dallas Cowboys'),\n",
       " solution(week=11, is_divisional=1, team1='Denver Broncos', team2='Oakland Raiders'),\n",
       " solution(week=23, is_divisional=0, team1='Oakland Raiders', team2='Atlanta Falcons'),\n",
       " solution(week=29, is_divisional=1, team1='Dallas Cowboys', team2='Washington Redskins'),\n",
       " solution(week=30, is_divisional=1, team1='Baltimore Ravens', team2='Cincinnati Bengals'),\n",
       " solution(week=24, is_divisional=0, team1='Tennessee Titans', team2='Arizona Cardinals'),\n",
       " solution(week=19, is_divisional=0, team1='Buffalo Bills', team2='St. Louis Rams'),\n",
       " solution(week=28, is_divisional=1, team1='Houston Texans', team2='Oakland Raiders'),\n",
       " solution(week=27, is_divisional=1, team1='Baltimore Ravens', team2='Buffalo Bills'),\n",
       " solution(week=6, is_divisional=1, team1='San Diego Chargers', team2='Chicago Bears'),\n",
       " solution(week=1, is_divisional=0, team1='Jacksonville Jaguars', team2='Tampa Bay Buccaneers'),\n",
       " solution(week=19, is_divisional=0, team1='New York Jets', team2='San Francisco 49ers'),\n",
       " solution(week=18, is_divisional=0, team1='Houston Texans', team2='Atlanta Falcons'),\n",
       " solution(week=0, is_divisional=0, team1='Baltimore Ravens', team2='St. Louis Rams'),\n",
       " solution(week=6, is_divisional=1, team1='New Orleans Saints', team2='Philadelphia Eagles'),\n",
       " solution(week=0, is_divisional=0, team1='Pittsburgh Steelers', team2='San Francisco 49ers'),\n",
       " solution(week=8, is_divisional=0, team1='Buffalo Bills', team2='Minnesota Vikings'),\n",
       " solution(week=11, is_divisional=1, team1='Carolina Panthers', team2='Washington Redskins'),\n",
       " solution(week=6, is_divisional=1, team1='San Francisco 49ers', team2='Seattle Seahawks'),\n",
       " solution(week=3, is_divisional=0, team1='Kansas City Chiefs', team2='Philadelphia Eagles'),\n",
       " solution(week=19, is_divisional=0, team1='Jacksonville Jaguars', team2='Washington Redskins'),\n",
       " solution(week=26, is_divisional=0, team1='Cleveland Browns', team2='New Orleans Saints'),\n",
       " solution(week=27, is_divisional=1, team1='Pittsburgh Steelers', team2='New York Jets'),\n",
       " solution(week=8, is_divisional=1, team1='Carolina Panthers', team2='Seattle Seahawks'),\n",
       " solution(week=30, is_divisional=0, team1='Indianapolis Colts', team2='Philadelphia Eagles'),\n",
       " solution(week=16, is_divisional=0, team1='New England Patriots', team2='Green Bay Packers'),\n",
       " solution(week=11, is_divisional=1, team1='Green Bay Packers', team2='Atlanta Falcons'),\n",
       " solution(week=22, is_divisional=0, team1='Pittsburgh Steelers', team2='Detroit Lions'),\n",
       " solution(week=20, is_divisional=0, team1='San Diego Chargers', team2='Green Bay Packers'),\n",
       " solution(week=12, is_divisional=1, team1='New England Patriots', team2='Kansas City Chiefs'),\n",
       " solution(week=29, is_divisional=1, team1='Pittsburgh Steelers', team2='Jacksonville Jaguars'),\n",
       " solution(week=6, is_divisional=1, team1='Carolina Panthers', team2='Tampa Bay Buccaneers'),\n",
       " solution(week=10, is_divisional=1, team1='Green Bay Packers', team2='New York Giants'),\n",
       " solution(week=10, is_divisional=1, team1='Atlanta Falcons', team2='Dallas Cowboys'),\n",
       " solution(week=28, is_divisional=1, team1='Arizona Cardinals', team2='San Francisco 49ers'),\n",
       " solution(week=0, is_divisional=0, team1='Tennessee Titans', team2='Minnesota Vikings'),\n",
       " solution(week=2, is_divisional=0, team1='Denver Broncos', team2='New York Giants'),\n",
       " solution(week=25, is_divisional=0, team1='Indianapolis Colts', team2='New Orleans Saints'),\n",
       " solution(week=20, is_divisional=0, team1='Cincinnati Bengals', team2='Minnesota Vikings'),\n",
       " solution(week=29, is_divisional=1, team1='Miami Dolphins', team2='Kansas City Chiefs'),\n",
       " solution(week=30, is_divisional=1, team1='Atlanta Falcons', team2='San Francisco 49ers'),\n",
       " solution(week=22, is_divisional=0, team1='Houston Texans', team2='New York Giants'),\n",
       " solution(week=19, is_divisional=0, team1='Miami Dolphins', team2='Tampa Bay Buccaneers'),\n",
       " solution(week=22, is_divisional=0, team1='Oakland Raiders', team2='Carolina Panthers'),\n",
       " solution(week=14, is_divisional=1, team1='New England Patriots', team2='Chicago Bears'),\n",
       " solution(week=8, is_divisional=1, team1='Washington Redskins', team2='San Francisco 49ers'),\n",
       " solution(week=15, is_divisional=0, team1='Tennessee Titans', team2='St. Louis Rams'),\n",
       " solution(week=26, is_divisional=1, team1='Detroit Lions', team2='Arizona Cardinals'),\n",
       " solution(week=10, is_divisional=1, team1='Minnesota Vikings', team2='San Francisco 49ers'),\n",
       " solution(week=16, is_divisional=0, team1='Jacksonville Jaguars', team2='Atlanta Falcons'),\n",
       " solution(week=15, is_divisional=0, team1='New York Jets', team2='Arizona Cardinals'),\n",
       " solution(week=0, is_divisional=0, team1='Houston Texans', team2='Carolina Panthers'),\n",
       " solution(week=27, is_divisional=1, team1='Tennessee Titans', team2='Kansas City Chiefs'),\n",
       " solution(week=15, is_divisional=1, team1='Buffalo Bills', team2='Oakland Raiders'),\n",
       " solution(week=5, is_divisional=1, team1='Philadelphia Eagles', team2='Washington Redskins'),\n",
       " solution(week=27, is_divisional=1, team1='Cleveland Browns', team2='Indianapolis Colts'),\n",
       " solution(week=9, is_divisional=1, team1='Minnesota Vikings', team2='Dallas Cowboys'),\n",
       " solution(week=23, is_divisional=0, team1='Pittsburgh Steelers', team2='Arizona Cardinals'),\n",
       " solution(week=20, is_divisional=0, team1='Buffalo Bills', team2='Atlanta Falcons'),\n",
       " solution(week=11, is_divisional=1, team1='Tennessee Titans', team2='Chicago Bears'),\n",
       " solution(week=11, is_divisional=1, team1='Buffalo Bills', team2='New York Jets'),\n",
       " solution(week=12, is_divisional=1, team1='Cleveland Browns', team2='Denver Broncos'),\n",
       " solution(week=21, is_divisional=0, team1='Kansas City Chiefs', team2='New York Giants'),\n",
       " solution(week=0, is_divisional=0, team1='Jacksonville Jaguars', team2='Dallas Cowboys'),\n",
       " solution(week=25, is_divisional=0, team1='Cleveland Browns', team2='Tampa Bay Buccaneers'),\n",
       " solution(week=11, is_divisional=1, team1='Cincinnati Bengals', team2='Indianapolis Colts'),\n",
       " solution(week=4, is_divisional=1, team1='Miami Dolphins', team2='Chicago Bears'),\n",
       " solution(week=24, is_divisional=0, team1='Indianapolis Colts', team2='New York Giants'),\n",
       " solution(week=1, is_divisional=0, team1='New England Patriots', team2='Minnesota Vikings'),\n",
       " solution(week=26, is_divisional=0, team1='San Diego Chargers', team2='San Francisco 49ers'),\n",
       " solution(week=5, is_divisional=1, team1='Jacksonville Jaguars', team2='New England Patriots'),\n",
       " solution(week=11, is_divisional=1, team1='New York Giants', team2='Seattle Seahawks'),\n",
       " solution(week=8, is_divisional=1, team1='Indianapolis Colts', team2='New York Jets'),\n",
       " solution(week=14, is_divisional=1, team1='Kansas City Chiefs', team2='Oakland Raiders'),\n",
       " solution(week=12, is_divisional=1, team1='Cincinnati Bengals', team2='Miami Dolphins'),\n",
       " solution(week=7, is_divisional=0, team1='Tennessee Titans', team2='Green Bay Packers'),\n",
       " solution(week=19, is_divisional=0, team1='Denver Broncos', team2='Philadelphia Eagles'),\n",
       " solution(week=15, is_divisional=0, team1='Indianapolis Colts', team2='Carolina Panthers'),\n",
       " solution(week=19, is_divisional=0, team1='Cincinnati Bengals', team2='Green Bay Packers'),\n",
       " solution(week=13, is_divisional=1, team1='Indianapolis Colts', team2='Oakland Raiders'),\n",
       " solution(week=10, is_divisional=1, team1='Tampa Bay Buccaneers', team2='St. Louis Rams'),\n",
       " solution(week=26, is_divisional=1, team1='Baltimore Ravens', team2='Jacksonville Jaguars'),\n",
       " solution(week=2, is_divisional=0, team1='Chicago Bears', team2='Detroit Lions'),\n",
       " solution(week=25, is_divisional=0, team1='Houston Texans', team2='Philadelphia Eagles'),\n",
       " solution(week=1, is_divisional=0, team1='Miami Dolphins', team2='New Orleans Saints'),\n",
       " solution(week=24, is_divisional=0, team1='Oakland Raiders', team2='Philadelphia Eagles'),\n",
       " solution(week=12, is_divisional=1, team1='Indianapolis Colts', team2='Tennessee Titans'),\n",
       " solution(week=4, is_divisional=1, team1='Dallas Cowboys', team2='San Francisco 49ers'),\n",
       " solution(week=10, is_divisional=1, team1='Baltimore Ravens', team2='Pittsburgh Steelers'),\n",
       " solution(week=1, is_divisional=0, team1='Tennessee Titans', team2='Seattle Seahawks'),\n",
       " solution(week=6, is_divisional=1, team1='Houston Texans', team2='Buffalo Bills'),\n",
       " solution(week=30, is_divisional=1, team1='Denver Broncos', team2='Kansas City Chiefs'),\n",
       " solution(week=13, is_divisional=1, team1='Baltimore Ravens', team2='New England Patriots'),\n",
       " solution(week=23, is_divisional=0, team1='Jacksonville Jaguars', team2='Carolina Panthers'),\n",
       " solution(week=2, is_divisional=0, team1='New York Jets', team2='St. Louis Rams'),\n",
       " solution(week=17, is_divisional=0, team1='Houston Texans', team2='New Orleans Saints'),\n",
       " solution(week=24, is_divisional=0, team1='Baltimore Ravens', team2='Detroit Lions'),\n",
       " solution(week=11, is_divisional=1, team1='Houston Texans', team2='Kansas City Chiefs'),\n",
       " solution(week=8, is_divisional=1, team1='New Orleans Saints', team2='Dallas Cowboys'),\n",
       " solution(week=25, is_divisional=0, team1='Pittsburgh Steelers', team2='St. Louis Rams'),\n",
       " solution(week=24, is_divisional=0, team1='Buffalo Bills', team2='Carolina Panthers'),\n",
       " solution(week=10, is_divisional=1, team1='New York Jets', team2='Kansas City Chiefs'),\n",
       " solution(week=7, is_divisional=1, team1='Carolina Panthers', team2='New York Giants'),\n",
       " solution(week=15, is_divisional=0, team1='Kansas City Chiefs', team2='Dallas Cowboys'),\n",
       " solution(week=20, is_divisional=0, team1='Jacksonville Jaguars', team2='New York Giants'),\n",
       " solution(week=22, is_divisional=0, team1='Cleveland Browns', team2='Atlanta Falcons'),\n",
       " solution(week=9, is_divisional=1, team1='Pittsburgh Steelers', team2='Kansas City Chiefs'),\n",
       " solution(week=10, is_divisional=1, team1='Carolina Panthers', team2='Arizona Cardinals'),\n",
       " solution(week=3, is_divisional=0, team1='Indianapolis Colts', team2='Dallas Cowboys'),\n",
       " solution(week=26, is_divisional=0, team1='Pittsburgh Steelers', team2='Minnesota Vikings'),\n",
       " solution(week=21, is_divisional=0, team1='San Diego Chargers', team2='Arizona Cardinals'),\n",
       " solution(week=28, is_divisional=1, team1='New England Patriots', team2='New York Jets'),\n",
       " solution(week=23, is_divisional=1, team1='Houston Texans', team2='Chicago Bears'),\n",
       " solution(week=12, is_divisional=1, team1='Pittsburgh Steelers', team2='Buffalo Bills'),\n",
       " solution(week=4, is_divisional=1, team1='Green Bay Packers', team2='Tampa Bay Buccaneers'),\n",
       " solution(week=27, is_divisional=1, team1='Atlanta Falcons', team2='Philadelphia Eagles'),\n",
       " solution(week=7, is_divisional=1, team1='Arizona Cardinals', team2='St. Louis Rams'),\n",
       " solution(week=15, is_divisional=0, team1='Denver Broncos', team2='Washington Redskins'),\n",
       " solution(week=1, is_divisional=0, team1='Indianapolis Colts', team2='Atlanta Falcons'),\n",
       " solution(week=1, is_divisional=0, team1='Cincinnati Bengals', team2='Detroit Lions'),\n",
       " solution(week=27, is_divisional=1, team1='Green Bay Packers', team2='Seattle Seahawks'),\n",
       " solution(week=9, is_divisional=1, team1='Atlanta Falcons', team2='St. Louis Rams'),\n",
       " solution(week=1, is_divisional=0, team1='Chicago Bears', team2='Green Bay Packers'),\n",
       " solution(week=4, is_divisional=0, team1='Houston Texans', team2='Washington Redskins'),\n",
       " solution(week=25, is_divisional=0, team1='Miami Dolphins', team2='Carolina Panthers'),\n",
       " solution(week=9, is_divisional=1, team1='Detroit Lions', team2='Tampa Bay Buccaneers'),\n",
       " solution(week=21, is_divisional=0, team1='Oakland Raiders', team2='Washington Redskins'),\n",
       " solution(week=27, is_divisional=1, team1='Miami Dolphins', team2='Oakland Raiders'),\n",
       " solution(week=14, is_divisional=1, team1='Washington Redskins', team2='St. Louis Rams'),\n",
       " solution(week=28, is_divisional=1, team1='Atlanta Falcons', team2='New Orleans Saints'),\n",
       " solution(week=16, is_divisional=0, team1='Tennessee Titans', team2='New York Giants'),\n",
       " solution(week=6, is_divisional=1, team1='Detroit Lions', team2='Green Bay Packers'),\n",
       " solution(week=30, is_divisional=1, team1='Minnesota Vikings', team2='St. Louis Rams'),\n",
       " solution(week=28, is_divisional=1, team1='Pittsburgh Steelers', team2='Chicago Bears'),\n",
       " solution(week=3, is_divisional=0, team1='New York Jets', team2='Seattle Seahawks'),\n",
       " solution(week=20, is_divisional=0, team1='Houston Texans', team2='Tampa Bay Buccaneers'),\n",
       " solution(week=23, is_divisional=0, team1='Baltimore Ravens', team2='Green Bay Packers'),\n",
       " solution(week=29, is_divisional=1, team1='Tennessee Titans', team2='San Diego Chargers'),\n",
       " solution(week=13, is_divisional=1, team1='Detroit Lions', team2='Washington Redskins'),\n",
       " solution(week=11, is_divisional=1, team1='Cleveland Browns', team2='Pittsburgh Steelers'),\n",
       " solution(week=4, is_divisional=1, team1='Minnesota Vikings', team2='Philadelphia Eagles'),\n",
       " solution(week=16, is_divisional=0, team1='Pittsburgh Steelers', team2='Seattle Seahawks'),\n",
       " solution(week=22, is_divisional=0, team1='Buffalo Bills', team2='New Orleans Saints'),\n",
       " solution(week=28, is_divisional=1, team1='Buffalo Bills', team2='Kansas City Chiefs'),\n",
       " solution(week=4, is_divisional=1, team1='Cleveland Browns', team2='New England Patriots'),\n",
       " solution(week=24, is_divisional=0, team1='Kansas City Chiefs', team2='Tampa Bay Buccaneers'),\n",
       " solution(week=21, is_divisional=0, team1='Jacksonville Jaguars', team2='Seattle Seahawks'),\n",
       " solution(week=2, is_divisional=0, team1='Cleveland Browns', team2='Carolina Panthers'),\n",
       " solution(week=9, is_divisional=1, team1='Cleveland Browns', team2='San Diego Chargers'),\n",
       " solution(week=20, is_divisional=0, team1='New England Patriots', team2='Detroit Lions'),\n",
       " solution(week=3, is_divisional=0, team1='Pittsburgh Steelers', team2='Green Bay Packers'),\n",
       " solution(week=24, is_divisional=0, team1='San Diego Chargers', team2='St. Louis Rams'),\n",
       " solution(week=3, is_divisional=1, team1='Jacksonville Jaguars', team2='Buffalo Bills'),\n",
       " solution(week=27, is_divisional=1, team1='New York Giants', team2='Arizona Cardinals'),\n",
       " solution(week=4, is_divisional=1, team1='Cincinnati Bengals', team2='Jacksonville Jaguars'),\n",
       " solution(week=9, is_divisional=1, team1='Indianapolis Colts', team2='Miami Dolphins'),\n",
       " solution(week=27, is_divisional=1, team1='Cincinnati Bengals', team2='San Diego Chargers'),\n",
       " solution(week=3, is_divisional=0, team1='Denver Broncos', team2='Atlanta Falcons'),\n",
       " solution(week=2, is_divisional=0, team1='Indianapolis Colts', team2='Minnesota Vikings'),\n",
       " solution(week=22, is_divisional=1, team1='Indianapolis Colts', team2='Denver Broncos'),\n",
       " solution(week=30, is_divisional=1, team1='Tampa Bay Buccaneers', team2='New York Giants'),\n",
       " solution(week=17, is_divisional=0, team1='Chicago Bears', team2='Minnesota Vikings'),\n",
       " solution(week=9, is_divisional=1, team1='Cincinnati Bengals', team2='New England Patriots'),\n",
       " solution(week=0, is_divisional=0, team1='Miami Dolphins', team2='Atlanta Falcons'),\n",
       " solution(week=25, is_divisional=0, team1='Oakland Raiders', team2='Dallas Cowboys'),\n",
       " solution(week=14, is_divisional=1, team1='Tampa Bay Buccaneers', team2='Arizona Cardinals'),\n",
       " solution(week=6, is_divisional=1, team1='Dallas Cowboys', team2='St. Louis Rams'),\n",
       " solution(week=6, is_divisional=1, team1='Baltimore Ravens', team2='Indianapolis Colts'),\n",
       " solution(week=18, is_divisional=0, team1='Tennessee Titans', team2='Dallas Cowboys'),\n",
       " solution(week=27, is_divisional=1, team1='Houston Texans', team2='New England Patriots'),\n",
       " solution(week=10, is_divisional=1, team1='Denver Broncos', team2='San Diego Chargers'),\n",
       " solution(week=5, is_divisional=1, team1='New Orleans Saints', team2='Tampa Bay Buccaneers'),\n",
       " solution(week=9, is_divisional=1, team1='Baltimore Ravens', team2='Denver Broncos'),\n",
       " solution(week=21, is_divisional=0, team1='New York Jets', team2='Detroit Lions'),\n",
       " solution(week=15, is_divisional=0, team1='Baltimore Ravens', team2='Minnesota Vikings'),\n",
       " solution(week=14, is_divisional=1, team1='Houston Texans', team2='San Diego Chargers'),\n",
       " solution(week=7, is_divisional=1, team1='New Orleans Saints', team2='Seattle Seahawks'),\n",
       " solution(week=8, is_divisional=1, team1='Baltimore Ravens', team2='Miami Dolphins'),\n",
       " solution(week=26, is_divisional=0, team1='Buffalo Bills', team2='Tampa Bay Buccaneers'),\n",
       " solution(week=30, is_divisional=1, team1='New York Jets', team2='San Diego Chargers'),\n",
       " solution(week=8, is_divisional=1, team1='Houston Texans', team2='Jacksonville Jaguars'),\n",
       " solution(week=30, is_divisional=1, team1='New Orleans Saints', team2='Washington Redskins'),\n",
       " solution(week=23, is_divisional=0, team1='Kansas City Chiefs', team2='New Orleans Saints'),\n",
       " solution(week=27, is_divisional=0, team1='Jacksonville Jaguars', team2='St. Louis Rams'),\n",
       " solution(week=21, is_divisional=0, team1='Cleveland Browns', team2='Green Bay Packers'),\n",
       " solution(week=13, is_divisional=1, team1='Pittsburgh Steelers', team2='San Diego Chargers'),\n",
       " solution(week=13, is_divisional=1, team1='Carolina Panthers', team2='Philadelphia Eagles'),\n",
       " solution(week=23, is_divisional=0, team1='New England Patriots', team2='Seattle Seahawks'),\n",
       " solution(week=21, is_divisional=0, team1='Pittsburgh Steelers', team2='Carolina Panthers'),\n",
       " solution(week=25, is_divisional=0, team1='San Diego Chargers', team2='Seattle Seahawks'),\n",
       " solution(week=19, is_divisional=1, team1='Pittsburgh Steelers', team2='New England Patriots'),\n",
       " solution(week=19, is_divisional=0, team1='Cleveland Browns', team2='Seattle Seahawks'),\n",
       " solution(week=30, is_divisional=1, team1='Green Bay Packers', team2='Carolina Panthers'),\n",
       " solution(week=29, is_divisional=1, team1='Carolina Panthers', team2='New Orleans Saints'),\n",
       " solution(week=4, is_divisional=0, team1='Denver Broncos', team2='Carolina Panthers'),\n",
       " solution(week=7, is_divisional=1, team1='Oakland Raiders', team2='San Diego Chargers'),\n",
       " solution(week=18, is_divisional=0, team1='Indianapolis Colts', team2='Green Bay Packers'),\n",
       " solution(week=21, is_divisional=0, team1='Cincinnati Bengals', team2='Tampa Bay Buccaneers'),\n",
       " solution(week=13, is_divisional=1, team1='Green Bay Packers', team2='Arizona Cardinals'),\n",
       " solution(week=8, is_divisional=1, team1='Cleveland Browns', team2='Chicago Bears'),\n",
       " solution(week=29, is_divisional=1, team1='Atlanta Falcons', team2='New York Giants'),\n",
       " solution(week=25, is_divisional=0, team1='Chicago Bears', team2='Atlanta Falcons'),\n",
       " solution(week=18, is_divisional=0, team1='Miami Dolphins', team2='Washington Redskins'),\n",
       " solution(week=5, is_divisional=1, team1='Detroit Lions', team2='Carolina Panthers'),\n",
       " solution(week=0, is_divisional=0, team1='Oakland Raiders', team2='New York Giants'),\n",
       " solution(week=5, is_divisional=1, team1='Miami Dolphins', team2='Denver Broncos'),\n",
       " solution(week=22, is_divisional=0, team1='Tennessee Titans', team2='Washington Redskins'),\n",
       " solution(week=0, is_divisional=0, team1='Cincinnati Bengals', team2='Washington Redskins'),\n",
       " solution(week=12, is_divisional=1, team1='Washington Redskins', team2='Arizona Cardinals'),\n",
       " solution(week=14, is_divisional=1, team1='Atlanta Falcons', team2='Carolina Panthers'),\n",
       " solution(week=19, is_divisional=0, team1='Chicago Bears', team2='Dallas Cowboys'),\n",
       " solution(week=3, is_divisional=0, team1='Houston Texans', team2='Detroit Lions'),\n",
       " solution(week=21, is_divisional=0, team1='Baltimore Ravens', team2='Atlanta Falcons'),\n",
       " solution(week=20, is_divisional=1, team1='Tennessee Titans', team2='Miami Dolphins'),\n",
       " solution(week=8, is_divisional=1, team1='Detroit Lions', team2='New York Giants'),\n",
       " solution(week=11, is_divisional=1, team1='Minnesota Vikings', team2='Arizona Cardinals'),\n",
       " solution(week=23, is_divisional=0, team1='Buffalo Bills', team2='Dallas Cowboys'),\n",
       " solution(week=8, is_divisional=1, team1='Tennessee Titans', team2='Denver Broncos'),\n",
       " solution(week=0, is_divisional=1, team1='Buffalo Bills', team2='San Diego Chargers'),\n",
       " solution(week=14, is_divisional=1, team1='Philadelphia Eagles', team2='Seattle Seahawks'),\n",
       " solution(week=29, is_divisional=1, team1='Cleveland Browns', team2='Buffalo Bills'),\n",
       " solution(week=29, is_divisional=1, team1='Cincinnati Bengals', team2='Chicago Bears'),\n",
       " solution(week=12, is_divisional=1, team1='Minnesota Vikings', team2='Carolina Panthers'),\n",
       " solution(week=1, is_divisional=0, team1='Kansas City Chiefs', team2='Carolina Panthers'),\n",
       " solution(week=2, is_divisional=0, team1='Jacksonville Jaguars', team2='Arizona Cardinals'),\n",
       " solution(week=23, is_divisional=0, team1='Cleveland Browns', team2='Minnesota Vikings'),\n",
       " solution(week=1, is_divisional=0, team1='Baltimore Ravens', team2='Dallas Cowboys'),\n",
       " solution(week=14, is_divisional=1, team1='Jacksonville Jaguars', team2='Tennessee Titans'),\n",
       " solution(week=6, is_divisional=1, team1='Cleveland Browns', team2='Kansas City Chiefs'),\n",
       " solution(week=21, is_divisional=0, team1='New England Patriots', team2='St. Louis Rams'),\n",
       " solution(week=4, is_divisional=0, team1='Pittsburgh Steelers', team2='Atlanta Falcons'),\n",
       " solution(week=23, is_divisional=0, team1='San Diego Chargers', team2='New York Giants'),\n",
       " solution(week=9, is_divisional=1, team1='Jacksonville Jaguars', team2='Oakland Raiders'),\n",
       " solution(week=10, is_divisional=1, team1='Cincinnati Bengals', team2='Houston Texans'),\n",
       " solution(week=1, is_divisional=0, team1='Cleveland Browns', team2='St. Louis Rams'),\n",
       " solution(week=13, is_divisional=1, team1='Jacksonville Jaguars', team2='New York Jets'),\n",
       " solution(week=28, is_divisional=1, team1='New York Giants', team2='Washington Redskins'),\n",
       " solution(week=8, is_divisional=1, team1='Cincinnati Bengals', team2='Kansas City Chiefs'),\n",
       " solution(week=16, is_divisional=0, team1='Denver Broncos', team2='New Orleans Saints'),\n",
       " solution(week=4, is_divisional=0, team1='Indianapolis Colts', team2='Detroit Lions'),\n",
       " solution(week=2, is_divisional=0, team1='Cincinnati Bengals', team2='New Orleans Saints'),\n",
       " solution(week=3, is_divisional=0, team1='San Diego Chargers', team2='Carolina Panthers'),\n",
       " solution(week=29, is_divisional=1, team1='Indianapolis Colts', team2='New England Patriots'),\n",
       " solution(week=27, is_divisional=1, team1='Tampa Bay Buccaneers', team2='Washington Redskins'),\n",
       " solution(week=20, is_divisional=0, team1='Chicago Bears', team2='Carolina Panthers'),\n",
       " solution(week=14, is_divisional=1, team1='Cincinnati Bengals', team2='Buffalo Bills'),\n",
       " solution(week=2, is_divisional=0, team1='Miami Dolphins', team2='Philadelphia Eagles'),\n",
       " solution(week=17, is_divisional=0, team1='Oakland Raiders', team2='Seattle Seahawks'),\n",
       " solution(week=13, is_divisional=1, team1='Tampa Bay Buccaneers', team2='Seattle Seahawks'),\n",
       " solution(week=28, is_divisional=1, team1='Baltimore Ravens', team2='Tennessee Titans'),\n",
       " solution(week=17, is_divisional=0, team1='Tennessee Titans', team2='Philadelphia Eagles'),\n",
       " solution(week=23, is_divisional=0, team1='Cincinnati Bengals', team2='Philadelphia Eagles'),\n",
       " solution(week=28, is_divisional=1, team1='Indianapolis Colts', team2='Jacksonville Jaguars'),\n",
       " solution(week=4, is_divisional=1, team1='Baltimore Ravens', team2='Oakland Raiders'),\n",
       " solution(week=16, is_divisional=0, team1='New York Jets', team2='Minnesota Vikings'),\n",
       " solution(week=3, is_divisional=0, team1='Chicago Bears', team2='New York Giants'),\n",
       " solution(week=24, is_divisional=0, team1='Houston Texans', team2='Green Bay Packers'),\n",
       " solution(week=17, is_divisional=0, team1='Baltimore Ravens', team2='Carolina Panthers'),\n",
       " solution(week=27, is_divisional=1, team1='Denver Broncos', team2='Chicago Bears'),\n",
       " solution(week=26, is_divisional=0, team1='Oakland Raiders', team2='Green Bay Packers'),\n",
       " solution(week=13, is_divisional=1, team1='Houston Texans', team2='Miami Dolphins'),\n",
       " solution(week=9, is_divisional=1, team1='New Orleans Saints', team2='Arizona Cardinals'),\n",
       " solution(week=7, is_divisional=1, team1='Baltimore Ravens', team2='New York Jets'),\n",
       " solution(week=4, is_divisional=0, team1='Buffalo Bills', team2='New York Giants'),\n",
       " solution(week=13, is_divisional=1, team1='New Orleans Saints', team2='New York Giants'),\n",
       " solution(week=19, is_divisional=0, team1='Kansas City Chiefs', team2='Atlanta Falcons'),\n",
       " solution(week=15, is_divisional=0, team1='Jacksonville Jaguars', team2='San Francisco 49ers'),\n",
       " solution(week=19, is_divisional=0, team1='Baltimore Ravens', team2='New York Giants'),\n",
       " solution(week=1, is_divisional=1, team1='New York Jets', team2='Denver Broncos'),\n",
       " solution(week=26, is_divisional=1, team1='Houston Texans', team2='Indianapolis Colts'),\n",
       " solution(week=27, is_divisional=1, team1='Carolina Panthers', team2='Dallas Cowboys'),\n",
       " solution(week=3, is_divisional=0, team1='New England Patriots', team2='Arizona Cardinals'),\n",
       " solution(week=18, is_divisional=0, team1='Pittsburgh Steelers', team2='Tampa Bay Buccaneers'),\n",
       " solution(week=22, is_divisional=0, team1='San Diego Chargers', team2='Dallas Cowboys'),\n",
       " solution(week=24, is_divisional=1, team1='Pittsburgh Steelers', team2='Denver Broncos'),\n",
       " solution(week=10, is_divisional=1, team1='Oakland Raiders', team2='Chicago Bears'),\n",
       " solution(week=20, is_divisional=0, team1='Cleveland Browns', team2='Arizona Cardinals'),\n",
       " solution(week=6, is_divisional=1, team1='New England Patriots', team2='Oakland Raiders'),\n",
       " solution(week=28, is_divisional=1, team1='Green Bay Packers', team2='Minnesota Vikings'),\n",
       " solution(week=14, is_divisional=1, team1='Pittsburgh Steelers', team2='Indianapolis Colts'),\n",
       " solution(week=9, is_divisional=1, team1='New York Jets', team2='Chicago Bears'),\n",
       " solution(week=23, is_divisional=0, team1='Denver Broncos', team2='Tampa Bay Buccaneers'),\n",
       " solution(week=16, is_divisional=0, team1='Cincinnati Bengals', team2='Carolina Panthers'),\n",
       " solution(week=12, is_divisional=1, team1='Green Bay Packers', team2='Philadelphia Eagles'),\n",
       " solution(week=17, is_divisional=0, team1='San Diego Chargers', team2='Atlanta Falcons'),\n",
       " solution(week=6, is_divisional=1, team1='Atlanta Falcons', team2='Washington Redskins'),\n",
       " solution(week=0, is_divisional=0, team1='Chicago Bears', team2='New Orleans Saints'),\n",
       " solution(week=26, is_divisional=0, team1='Miami Dolphins', team2='New York Giants'),\n",
       " solution(week=16, is_divisional=0, team1='Oakland Raiders', team2='St. Louis Rams'),\n",
       " solution(week=8, is_divisional=1, team1='Green Bay Packers', team2='St. Louis Rams'),\n",
       " solution(week=19, is_divisional=0, team1='Tennessee Titans', team2='Carolina Panthers'),\n",
       " solution(week=25, is_divisional=0, team1='Cincinnati Bengals', team2='New York Giants'),\n",
       " solution(week=14, is_divisional=1, team1='Miami Dolphins', team2='New York Jets'),\n",
       " solution(week=10, is_divisional=1, team1='Detroit Lions', team2='New Orleans Saints'),\n",
       " solution(week=10, is_divisional=1, team1='Washington Redskins', team2='Seattle Seahawks'),\n",
       " solution(week=8, is_divisional=1, team1='Atlanta Falcons', team2='Tampa Bay Buccaneers'),\n",
       " solution(week=25, is_divisional=0, team1='New York Jets', team2='Green Bay Packers'),\n",
       " solution(week=21, is_divisional=0, team1='Chicago Bears', team2='Philadelphia Eagles'),\n",
       " solution(week=19, is_divisional=0, team1='Houston Texans', team2='Minnesota Vikings'),\n",
       " solution(week=3, is_divisional=0, team1='Baltimore Ravens', team2='New Orleans Saints'),\n",
       " solution(week=4, is_divisional=1, team1='Tennessee Titans', team2='New York Jets'),\n",
       " solution(week=11, is_divisional=1, team1='Detroit Lions', team2='St. Louis Rams'),\n",
       " solution(week=3, is_divisional=0, team1='Oakland Raiders', team2='Minnesota Vikings'),\n",
       " solution(week=5, is_divisional=1, team1='Minnesota Vikings', team2='Seattle Seahawks'),\n",
       " solution(week=18, is_divisional=0, team1='Buffalo Bills', team2='Philadelphia Eagles'),\n",
       " solution(week=5, is_divisional=1, team1='Tennessee Titans', team2='Oakland Raiders'),\n",
       " solution(week=29, is_divisional=1, team1='Detroit Lions', team2='Philadelphia Eagles'),\n",
       " solution(week=8, is_divisional=1, team1='Philadelphia Eagles', team2='Arizona Cardinals'),\n",
       " solution(week=17, is_divisional=1, team1='Cleveland Browns', team2='Jacksonville Jaguars'),\n",
       " solution(week=29, is_divisional=1, team1='Minnesota Vikings', team2='Tampa Bay Buccaneers'),\n",
       " solution(week=22, is_divisional=0, team1='Kansas City Chiefs', team2='Minnesota Vikings'),\n",
       " solution(week=22, is_divisional=0, team1='Jacksonville Jaguars', team2='Green Bay Packers'),\n",
       " solution(week=0, is_divisional=0, team1='Cleveland Browns', team2='Detroit Lions'),\n",
       " solution(week=16, is_divisional=0, team1='Baltimore Ravens', team2='Philadelphia Eagles'),\n",
       " solution(week=5, is_divisional=1, team1='Cleveland Browns', team2='New York Jets'),\n",
       " solution(week=22, is_divisional=0, team1='New England Patriots', team2='San Francisco 49ers'),\n",
       " solution(week=15, is_divisional=0, team1='Pittsburgh Steelers', team2='New Orleans Saints'),\n",
       " solution(week=2, is_divisional=0, team1='San Diego Chargers', team2='Washington Redskins'),\n",
       " solution(week=6, is_divisional=1, team1='Jacksonville Jaguars', team2='Denver Broncos'),\n",
       " solution(week=17, is_divisional=0, team1='Kansas City Chiefs', team2='St. Louis Rams'),\n",
       " solution(week=16, is_divisional=0, team1='Cleveland Browns', team2='San Francisco 49ers'),\n",
       " solution(week=11, is_divisional=1, team1='Jacksonville Jaguars', team2='Miami Dolphins'),\n",
       " solution(week=5, is_divisional=1, team1='Cincinnati Bengals', team2='Pittsburgh Steelers'),\n",
       " solution(week=23, is_divisional=0, team1='Indianapolis Colts', team2='St. Louis Rams'),\n",
       " solution(week=15, is_divisional=0, team1='Cincinnati Bengals', team2='Atlanta Falcons'),\n",
       " solution(week=16, is_divisional=0, team1='San Diego Chargers', team2='Tampa Bay Buccaneers'),\n",
       " solution(week=30, is_divisional=1, team1='Jacksonville Jaguars', team2='Chicago Bears'),\n",
       " solution(week=10, is_divisional=1, team1='Indianapolis Colts', team2='Buffalo Bills'),\n",
       " solution(week=15, is_divisional=0, team1='Chicago Bears', team2='Tampa Bay Buccaneers'),\n",
       " solution(week=18, is_divisional=1, team1='Cincinnati Bengals', team2='Oakland Raiders'),\n",
       " solution(week=16, is_divisional=0, team1='Miami Dolphins', team2='Dallas Cowboys'),\n",
       " solution(week=1, is_divisional=0, team1='Oakland Raiders', team2='Arizona Cardinals'),\n",
       " solution(week=5, is_divisional=1, team1='Buffalo Bills', team2='Chicago Bears'),\n",
       " solution(week=11, is_divisional=1, team1='Tampa Bay Buccaneers', team2='Dallas Cowboys'),\n",
       " solution(week=2, is_divisional=0, team1='Tennessee Titans', team2='Atlanta Falcons'),\n",
       " solution(week=0, is_divisional=0, team1='Denver Broncos', team2='Arizona Cardinals'),\n",
       " solution(week=13, is_divisional=0, team1='Cincinnati Bengals', team2='Dallas Cowboys'),\n",
       " solution(week=7, is_divisional=1, team1='Dallas Cowboys', team2='Philadelphia Eagles'),\n",
       " solution(week=26, is_divisional=0, team1='New York Jets', team2='Carolina Panthers'),\n",
       " solution(week=16, is_divisional=0, team1='Chicago Bears', team2='Washington Redskins'),\n",
       " solution(week=16, is_divisional=0, team1='Houston Texans', team2='Arizona Cardinals'),\n",
       " solution(week=22, is_divisional=0, team1='Baltimore Ravens', team2='Tampa Bay Buccaneers'),\n",
       " solution(week=12, is_divisional=1, team1='Houston Texans', team2='New York Jets'),\n",
       " solution(week=29, is_divisional=1, team1='Seattle Seahawks', team2='St. Louis Rams'),\n",
       " solution(week=5, is_divisional=1, team1='Baltimore Ravens', team2='Kansas City Chiefs'),\n",
       " solution(week=1, is_divisional=0, team1='Buffalo Bills', team2='Washington Redskins'),\n",
       " solution(week=7, is_divisional=1, team1='Indianapolis Colts', team2='Chicago Bears'),\n",
       " solution(week=4, is_divisional=1, team1='New Orleans Saints', team2='St. Louis Rams'),\n",
       " solution(week=0, is_divisional=0, team1='Kansas City Chiefs', team2='Green Bay Packers'),\n",
       " solution(week=25, is_divisional=0, team1='Jacksonville Jaguars', team2='Minnesota Vikings'),\n",
       " solution(week=17, is_divisional=0, team1='New York Jets', team2='New York Giants'),\n",
       " solution(week=25, is_divisional=0, team1='Baltimore Ravens', team2='Washington Redskins'),\n",
       " solution(week=29, is_divisional=1, team1='New York Jets', team2='Oakland Raiders'),\n",
       " solution(week=13, is_divisional=1, team1='San Francisco 49ers', team2='St. Louis Rams'),\n",
       " solution(week=9, is_divisional=1, team1='Houston Texans', team2='Tennessee Titans'),\n",
       " solution(week=0, is_divisional=0, team1='New England Patriots', team2='Philadelphia Eagles'),\n",
       " solution(week=1, is_divisional=0, team1='Pittsburgh Steelers', team2='New York Giants'),\n",
       " solution(week=1, is_divisional=0, team1='San Diego Chargers', team2='Philadelphia Eagles'),\n",
       " solution(week=8, is_divisional=1, team1='Pittsburgh Steelers', team2='Oakland Raiders'),\n",
       " solution(week=28, is_divisional=1, team1='Carolina Panthers', team2='St. Louis Rams'),\n",
       " solution(week=2, is_divisional=0, team1='Kansas City Chiefs', team2='Seattle Seahawks'),\n",
       " solution(week=15, is_divisional=0, team1='Cleveland Browns', team2='Philadelphia Eagles'),\n",
       " solution(week=25, is_divisional=1, team1='New England Patriots', team2='Denver Broncos'),\n",
       " solution(week=6, is_divisional=1, team1='Pittsburgh Steelers', team2='Tennessee Titans'),\n",
       " solution(week=28, is_divisional=0, team1='Denver Broncos', team2='Detroit Lions'),\n",
       " solution(week=0, is_divisional=0, team1='Indianapolis Colts', team2='Seattle Seahawks'),\n",
       " solution(week=11, is_divisional=0, team1='New England Patriots', team2='New Orleans Saints'),\n",
       " solution(week=5, is_divisional=1, team1='Green Bay Packers', team2='Dallas Cowboys'),\n",
       " solution(week=19, is_divisional=0, team1='San Diego Chargers', team2='New Orleans Saints'),\n",
       " solution(week=3, is_divisional=0, team1='Miami Dolphins', team2='St. Louis Rams'),\n",
       " solution(week=2, is_divisional=0, team1='Oakland Raiders', team2='San Francisco 49ers'),\n",
       " solution(week=29, is_divisional=1, team1='Green Bay Packers', team2='San Francisco 49ers'),\n",
       " solution(week=5, is_divisional=1, team1='Atlanta Falcons', team2='Arizona Cardinals'),\n",
       " solution(week=3, is_divisional=0, team1='Tennessee Titans', team2='Tampa Bay Buccaneers'),\n",
       " solution(week=14, is_divisional=0, team1='Denver Broncos', team2='San Francisco 49ers'),\n",
       " solution(week=22, is_divisional=0, team1='Cincinnati Bengals', team2='St. Louis Rams'),\n",
       " solution(week=7, is_divisional=1, team1='Detroit Lions', team2='Atlanta Falcons'),\n",
       " solution(week=24, is_divisional=0, team1='New York Jets', team2='Atlanta Falcons'),\n",
       " solution(week=22, is_divisional=0, team1='Chicago Bears', team2='Arizona Cardinals'),\n",
       " solution(week=1, is_divisional=0, team1='Houston Texans', team2='San Francisco 49ers'),\n",
       " solution(week=24, is_divisional=0, team1='Miami Dolphins', team2='Minnesota Vikings'),\n",
       " solution(week=27, is_divisional=1, team1='Detroit Lions', team2='San Francisco 49ers'),\n",
       " solution(week=19, is_divisional=0, team1='Oakland Raiders', team2='Detroit Lions'),\n",
       " solution(week=25, is_divisional=0, team1='Buffalo Bills', team2='Arizona Cardinals'),\n",
       " solution(week=30, is_divisional=1, team1='Tennessee Titans', team2='Buffalo Bills'),\n",
       " solution(week=12, is_divisional=1, team1='Detroit Lions', team2='Dallas Cowboys'),\n",
       " solution(week=7, is_divisional=1, team1='Cleveland Browns', team2='Houston Texans'),\n",
       " solution(week=6, is_divisional=1, team1='Minnesota Vikings', team2='New York Giants'),\n",
       " solution(week=25, is_divisional=0, team1='Kansas City Chiefs', team2='Detroit Lions'),\n",
       " solution(week=20, is_divisional=0, team1='New York Jets', team2='Dallas Cowboys'),\n",
       " solution(week=29, is_divisional=0, team1='Baltimore Ravens', team2='Arizona Cardinals'),\n",
       " solution(week=7, is_divisional=1, team1='Buffalo Bills', team2='New England Patriots'),\n",
       " solution(week=26, is_divisional=1, team1='Philadelphia Eagles', team2='St. Louis Rams'),\n",
       " solution(week=10, is_divisional=1, team1='Cleveland Browns', team2='Miami Dolphins'),\n",
       " solution(week=13, is_divisional=1, team1='Minnesota Vikings', team2='Atlanta Falcons'),\n",
       " solution(week=24, is_divisional=0, team1='New England Patriots', team2='Washington Redskins'),\n",
       " solution(week=2, is_divisional=0, team1='Pittsburgh Steelers', team2='Dallas Cowboys'),\n",
       " solution(week=20, is_divisional=0, team1='Kansas City Chiefs', team2='San Francisco 49ers'),\n",
       " solution(week=3, is_divisional=0, team1='Cleveland Browns', team2='Washington Redskins'),\n",
       " solution(week=12, is_divisional=1, team1='Jacksonville Jaguars', team2='San Diego Chargers'),\n",
       " solution(week=12, is_divisional=1, team1='New York Giants', team2='St. Louis Rams'),\n",
       " solution(week=17, is_divisional=0, team1='Denver Broncos', team2='Green Bay Packers'),\n",
       " solution(week=21, is_divisional=0, team1='Indianapolis Colts', team2='San Francisco 49ers'),\n",
       " solution(week=2, is_divisional=0, team1='New England Patriots', team2='Tampa Bay Buccaneers'),\n",
       " solution(week=4, is_divisional=1, team1='Kansas City Chiefs', team2='San Diego Chargers'),\n",
       " solution(week=15, is_divisional=0, team1='San Diego Chargers', team2='Detroit Lions'),\n",
       " solution(week=9, is_divisional=1, team1='New York Giants', team2='Philadelphia Eagles'),\n",
       " solution(week=7, is_divisional=1, team1='Cincinnati Bengals', team2='Denver Broncos'),\n",
       " solution(week=22, is_divisional=0, team1='Miami Dolphins', team2='Seattle Seahawks'),\n",
       " solution(week=5, is_divisional=1, team1='Indianapolis Colts', team2='San Diego Chargers')]"
      ]
     },
     "execution_count": 61,
     "metadata": {},
     "output_type": "execute_result"
    }
   ],
   "source": [
    "solution"
   ]
  },
  {
   "cell_type": "code",
   "execution_count": 62,
   "metadata": {
    "collapsed": false
   },
   "outputs": [],
   "source": [
    "nfl_finals = [(\"2016\", \"Carolina Panthers\", \"Denver Broncos\"),\n",
    "              (\"2015\", \"New England Patriots\", \"Seattle Seahawks\"),\n",
    "              (\"2014\", \"Seattle Seahawks\", \"Denver Broncos\"),\n",
    "              (\"2013\", \"Baltimore Ravens\", \"San Francisco 49ers\"),\n",
    "              (\"2012\", \"New York Giants\", \"New England Patriots \"),\n",
    "              (\"2011\", \"Green Bay Packers\", \"Pittsburgh Steelers\"),\n",
    "              (\"2010\", \"New Orleans Saints\", \"Indianapolis Colts\"),\n",
    "              (\"2009\", \"Pittsburgh Steelers\", \"Arizona Cardinals\"),\n",
    "              (\"2008\", \"New York Giants\", \"New England Patriots\"),\n",
    "              (\"2007\", \"Indianapolis Colts\", \"Chicago Bears\")\n",
    "             ]\n",
    "nfl_meetings = {(t[1], t[2]) for t in nfl_finals}\n",
    "winners_bd = pd.DataFrame(nfl_finals)\n",
    "winners_bd.columns = [\"year\", \"team1\", \"team2\"]"
   ]
  },
  {
   "cell_type": "code",
   "execution_count": 63,
   "metadata": {
    "collapsed": false,
    "render": true
   },
   "outputs": [
    {
     "data": {
      "text/html": [
       "<div>\n",
       "<style scoped>\n",
       "    .dataframe tbody tr th:only-of-type {\n",
       "        vertical-align: middle;\n",
       "    }\n",
       "\n",
       "    .dataframe tbody tr th {\n",
       "        vertical-align: top;\n",
       "    }\n",
       "\n",
       "    .dataframe thead th {\n",
       "        text-align: right;\n",
       "    }\n",
       "</style>\n",
       "<table border=\"1\" class=\"dataframe\">\n",
       "  <thead>\n",
       "    <tr style=\"text-align: right;\">\n",
       "      <th></th>\n",
       "      <th>year</th>\n",
       "      <th>team1</th>\n",
       "      <th>team2</th>\n",
       "    </tr>\n",
       "  </thead>\n",
       "  <tbody>\n",
       "    <tr>\n",
       "      <th>0</th>\n",
       "      <td>2016</td>\n",
       "      <td>Carolina Panthers</td>\n",
       "      <td>Denver Broncos</td>\n",
       "    </tr>\n",
       "    <tr>\n",
       "      <th>1</th>\n",
       "      <td>2015</td>\n",
       "      <td>New England Patriots</td>\n",
       "      <td>Seattle Seahawks</td>\n",
       "    </tr>\n",
       "    <tr>\n",
       "      <th>2</th>\n",
       "      <td>2014</td>\n",
       "      <td>Seattle Seahawks</td>\n",
       "      <td>Denver Broncos</td>\n",
       "    </tr>\n",
       "    <tr>\n",
       "      <th>3</th>\n",
       "      <td>2013</td>\n",
       "      <td>Baltimore Ravens</td>\n",
       "      <td>San Francisco 49ers</td>\n",
       "    </tr>\n",
       "    <tr>\n",
       "      <th>4</th>\n",
       "      <td>2012</td>\n",
       "      <td>New York Giants</td>\n",
       "      <td>New England Patriots</td>\n",
       "    </tr>\n",
       "    <tr>\n",
       "      <th>5</th>\n",
       "      <td>2011</td>\n",
       "      <td>Green Bay Packers</td>\n",
       "      <td>Pittsburgh Steelers</td>\n",
       "    </tr>\n",
       "    <tr>\n",
       "      <th>6</th>\n",
       "      <td>2010</td>\n",
       "      <td>New Orleans Saints</td>\n",
       "      <td>Indianapolis Colts</td>\n",
       "    </tr>\n",
       "    <tr>\n",
       "      <th>7</th>\n",
       "      <td>2009</td>\n",
       "      <td>Pittsburgh Steelers</td>\n",
       "      <td>Arizona Cardinals</td>\n",
       "    </tr>\n",
       "    <tr>\n",
       "      <th>8</th>\n",
       "      <td>2008</td>\n",
       "      <td>New York Giants</td>\n",
       "      <td>New England Patriots</td>\n",
       "    </tr>\n",
       "    <tr>\n",
       "      <th>9</th>\n",
       "      <td>2007</td>\n",
       "      <td>Indianapolis Colts</td>\n",
       "      <td>Chicago Bears</td>\n",
       "    </tr>\n",
       "  </tbody>\n",
       "</table>\n",
       "</div>"
      ],
      "text/plain": [
       "   year                 team1                  team2\n",
       "0  2016     Carolina Panthers         Denver Broncos\n",
       "1  2015  New England Patriots       Seattle Seahawks\n",
       "2  2014      Seattle Seahawks         Denver Broncos\n",
       "3  2013      Baltimore Ravens    San Francisco 49ers\n",
       "4  2012       New York Giants  New England Patriots \n",
       "5  2011     Green Bay Packers    Pittsburgh Steelers\n",
       "6  2010    New Orleans Saints     Indianapolis Colts\n",
       "7  2009   Pittsburgh Steelers      Arizona Cardinals\n",
       "8  2008       New York Giants   New England Patriots\n",
       "9  2007    Indianapolis Colts          Chicago Bears"
      ]
     },
     "metadata": {},
     "output_type": "display_data"
    }
   ],
   "source": [
    "display(winners_bd)"
   ]
  },
  {
   "cell_type": "markdown",
   "metadata": {},
   "source": [
    "We now look for the games in our solution that are replays of one of the past 10 Super Bowls."
   ]
  },
  {
   "cell_type": "code",
   "execution_count": 64,
   "metadata": {
    "collapsed": false
   },
   "outputs": [
    {
     "name": "stdout",
     "output_type": "stream",
     "text": [
      "[(18, 'May', 'Seattle Seahawks', 'Denver Broncos'), (18, 'May', 'Baltimore Ravens', 'San Francisco 49ers'), (15, 'April', 'New York Giants', 'New England Patriots'), (25, 'July', 'New Orleans Saints', 'Indianapolis Colts'), (23, 'June', 'Pittsburgh Steelers', 'Arizona Cardinals'), (3, 'January', 'Green Bay Packers', 'Pittsburgh Steelers'), (23, 'June', 'New England Patriots', 'Seattle Seahawks'), (4, 'February', 'Carolina Panthers', 'Denver Broncos'), (7, 'February', 'Indianapolis Colts', 'Chicago Bears')]\n"
     ]
    }
   ],
   "source": [
    "months = [\"January\", \"February\", \"March\", \"April\", \"May\", \"June\", \n",
    "          \"July\", \"August\", \"September\", \"October\", \"November\", \"December\"]\n",
    "report = []\n",
    "for m in solution:\n",
    "    if (m.team1, m.team2) in nfl_meetings:\n",
    "        report.append((m.week, months[m.week//4], m.team1, m.team2))\n",
    "    if (m.team2, m.team1) in nfl_meetings: \n",
    "        report.append((m.week, months[m.week//4], m.team2, m.team1))\n",
    "\n",
    "print(report)\n",
    "matches_bd = pd.DataFrame(report)\n",
    "matches_bd.columns = [\"week\", \"Month\", \"Team1\", \"Team2\"]"
   ]
  },
  {
   "cell_type": "code",
   "execution_count": 65,
   "metadata": {
    "collapsed": false,
    "render": true
   },
   "outputs": [
    {
     "data": {
      "text/html": [
       "<div>\n",
       "<style scoped>\n",
       "    .dataframe tbody tr th:only-of-type {\n",
       "        vertical-align: middle;\n",
       "    }\n",
       "\n",
       "    .dataframe tbody tr th {\n",
       "        vertical-align: top;\n",
       "    }\n",
       "\n",
       "    .dataframe thead th {\n",
       "        text-align: right;\n",
       "    }\n",
       "</style>\n",
       "<table border=\"1\" class=\"dataframe\">\n",
       "  <thead>\n",
       "    <tr style=\"text-align: right;\">\n",
       "      <th></th>\n",
       "      <th>week</th>\n",
       "      <th>Month</th>\n",
       "      <th>Team1</th>\n",
       "      <th>Team2</th>\n",
       "    </tr>\n",
       "  </thead>\n",
       "  <tbody>\n",
       "    <tr>\n",
       "      <th>5</th>\n",
       "      <td>3</td>\n",
       "      <td>January</td>\n",
       "      <td>Green Bay Packers</td>\n",
       "      <td>Pittsburgh Steelers</td>\n",
       "    </tr>\n",
       "    <tr>\n",
       "      <th>7</th>\n",
       "      <td>4</td>\n",
       "      <td>February</td>\n",
       "      <td>Carolina Panthers</td>\n",
       "      <td>Denver Broncos</td>\n",
       "    </tr>\n",
       "    <tr>\n",
       "      <th>8</th>\n",
       "      <td>7</td>\n",
       "      <td>February</td>\n",
       "      <td>Indianapolis Colts</td>\n",
       "      <td>Chicago Bears</td>\n",
       "    </tr>\n",
       "    <tr>\n",
       "      <th>2</th>\n",
       "      <td>15</td>\n",
       "      <td>April</td>\n",
       "      <td>New York Giants</td>\n",
       "      <td>New England Patriots</td>\n",
       "    </tr>\n",
       "    <tr>\n",
       "      <th>0</th>\n",
       "      <td>18</td>\n",
       "      <td>May</td>\n",
       "      <td>Seattle Seahawks</td>\n",
       "      <td>Denver Broncos</td>\n",
       "    </tr>\n",
       "    <tr>\n",
       "      <th>1</th>\n",
       "      <td>18</td>\n",
       "      <td>May</td>\n",
       "      <td>Baltimore Ravens</td>\n",
       "      <td>San Francisco 49ers</td>\n",
       "    </tr>\n",
       "    <tr>\n",
       "      <th>4</th>\n",
       "      <td>23</td>\n",
       "      <td>June</td>\n",
       "      <td>Pittsburgh Steelers</td>\n",
       "      <td>Arizona Cardinals</td>\n",
       "    </tr>\n",
       "    <tr>\n",
       "      <th>6</th>\n",
       "      <td>23</td>\n",
       "      <td>June</td>\n",
       "      <td>New England Patriots</td>\n",
       "      <td>Seattle Seahawks</td>\n",
       "    </tr>\n",
       "    <tr>\n",
       "      <th>3</th>\n",
       "      <td>25</td>\n",
       "      <td>July</td>\n",
       "      <td>New Orleans Saints</td>\n",
       "      <td>Indianapolis Colts</td>\n",
       "    </tr>\n",
       "  </tbody>\n",
       "</table>\n",
       "</div>"
      ],
      "text/plain": [
       "   week     Month                 Team1                 Team2\n",
       "5     3   January     Green Bay Packers   Pittsburgh Steelers\n",
       "7     4  February     Carolina Panthers        Denver Broncos\n",
       "8     7  February    Indianapolis Colts         Chicago Bears\n",
       "2    15     April       New York Giants  New England Patriots\n",
       "0    18       May      Seattle Seahawks        Denver Broncos\n",
       "1    18       May      Baltimore Ravens   San Francisco 49ers\n",
       "4    23      June   Pittsburgh Steelers     Arizona Cardinals\n",
       "6    23      June  New England Patriots      Seattle Seahawks\n",
       "3    25      July    New Orleans Saints    Indianapolis Colts"
      ]
     },
     "metadata": {},
     "output_type": "display_data"
    }
   ],
   "source": [
    "try: #pandas >= 0.17\n",
    "    display(matches_bd.sort_values(by='week'))\n",
    "except:\n",
    "    display(matches_bd.sort('week'))"
   ]
  },
  {
   "cell_type": "markdown",
   "metadata": {},
   "source": [
    "## Summary\n",
    "\n",
    "\n",
    "You learned how to set up and use IBM Decision Optimization CPLEX Modeling for Python to formulate a Constraint Programming model and solve it with CPLEX."
   ]
  },
  {
   "cell_type": "markdown",
   "metadata": {
    "render": true
   },
   "source": [
    "#### References\n",
    "* [Decision Optimization CPLEX Modeling for Python documentation](http://ibmdecisionoptimization.github.io/docplex-doc/)\n",
    "* [Decision Optimization on Cloud](https://developer.ibm.com/docloud/)\n",
    "* Need help with DOcplex or to report a bug? Please go [here](https://developer.ibm.com/answers/smartspace/docloud).\n",
    "* Contact us at dofeedback@wwpdl.vnet.ibm.com.\n"
   ]
  },
  {
   "cell_type": "markdown",
   "metadata": {},
   "source": [
    "Copyright © 2017 IBM. IPLA licensed Sample Materials."
   ]
  },
  {
   "cell_type": "code",
   "execution_count": null,
   "metadata": {},
   "outputs": [],
   "source": []
  }
 ],
 "metadata": {
  "gist_id": "6011986",
  "kernelspec": {
   "display_name": "Python 3",
   "language": "python",
   "name": "python3"
  },
  "language_info": {
   "codemirror_mode": {
    "name": "ipython",
    "version": 3
   },
   "file_extension": ".py",
   "mimetype": "text/x-python",
   "name": "python",
   "nbconvert_exporter": "python",
   "pygments_lexer": "ipython3",
   "version": "3.6.8"
  }
 },
 "nbformat": 4,
 "nbformat_minor": 2
}
