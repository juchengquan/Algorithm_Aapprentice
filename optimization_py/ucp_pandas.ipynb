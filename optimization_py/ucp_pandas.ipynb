{
 "cells": [
  {
   "cell_type": "markdown",
   "metadata": {},
   "source": [
    "# The Unit Commitment Problem (UCP)\n",
    "\n",
    "This tutorial includes everything you need to set up IBM Decision Optimization CPLEX Modeling for Python (DOcplex), build a Mathematical Programming model, and get its solution by solving the model on the cloud with IBM ILOG CPLEX Optimizer.\n",
    "\n",
    "When you finish this tutorial, you'll have a foundational knowledge of _Prescriptive Analytics_.\n",
    "\n",
    ">This notebook is part of [Prescriptive Analytics for Python](http://ibmdecisionoptimization.github.io/docplex-doc/).\n",
    "\n",
    ">It requires an [installation of CPLEX Optimizers](http://ibmdecisionoptimization.github.io/docplex-doc/getting_started.html)\n",
    "\n",
    "Discover us [here](https://developer.ibm.com/docloud)\n",
    "\n",
    "\n",
    "Table of contents:\n",
    "\n",
    "*  [Describe the business problem](#Describe-the-business-problem)\n",
    "*  [How decision optimization (prescriptive analytics) can help](#How--decision-optimization-can-help)\n",
    "*  [Use decision optimization](#Use-decision-optimization)\n",
    "    *  [Step 1: Import the library](#Step-1:-Import-the-library)\n",
    "    *  [Step 2: Model the Data](#Step-2:-Model-the-data)\n",
    "    *  [Step 3: Prepare the data](#Step-3:-Prepare-the-data)\n",
    "    *  [Step 4: Set up the prescriptive model](#Step-4:-Set-up-the-prescriptive-model)\n",
    "        * [Define the decision variables](#Define-the-decision-variables)\n",
    "        * [Express the business constraints](#Express-the-business-constraints)\n",
    "        * [Express the objective](#Express-the-objective)\n",
    "        * [Solve with Decision Optimization](#Solve-with-Decision-Optimization)\n",
    "    *  [Step 5: Investigate the solution and run an example analysis](#Step-5:-Investigate-the-solution-and-then-run-an-example-analysis)\n",
    "*  [Summary](#Summary)\n",
    "\n",
    "****"
   ]
  },
  {
   "cell_type": "markdown",
   "metadata": {},
   "source": [
    "## Describe the business problem\n",
    "\n",
    "* The Model estimates the lower cost of generating electricity within a given plan. \n",
    "Depending on the demand for electricity, we turn on or off units that generate power and which have operational properties and costs.\n",
    "\n",
    "* The Unit Commitment Problem answers the question \"Which power generators should I run at which times and at what level in order to satisfy the demand for electricity?\". This  model  helps users to find not only a feasible answer to the question, but one that also optimizes its solution to meet as many of the electricity company's overall goals as possible. \n"
   ]
  },
  {
   "cell_type": "markdown",
   "metadata": {},
   "source": [
    "## How  decision optimization can help\n",
    "\n",
    "* Prescriptive analytics (decision optimization) technology recommends actions that are based on desired outcomes.  It takes into account specific scenarios, resources, and knowledge of past and current events. With this insight, your organization can make better decisions and have greater control of business outcomes.  \n",
    "\n",
    "* Prescriptive analytics is the next step on the path to insight-based actions. It creates value through synergy with predictive analytics, which analyzes data to predict future outcomes.  \n",
    "\n",
    "* Prescriptive analytics takes that insight to the next level by suggesting the optimal way to handle that future situation. Organizations that can act fast in dynamic conditions and make superior decisions in uncertain environments gain a strong competitive advantage.  \n",
    "<br/>\n",
    "\n",
    "<u>With prescriptive analytics, you can:</u> \n",
    "\n",
    "* Automate the complex decisions and trade-offs to better manage your limited resources.\n",
    "* Take advantage of a future opportunity or mitigate a future risk.\n",
    "* Proactively update recommendations based on changing events.\n",
    "* Meet operational goals, increase customer loyalty, prevent threats and fraud, and optimize business processes."
   ]
  },
  {
   "cell_type": "markdown",
   "metadata": {},
   "source": [
    "## Checking minimum requirements\n",
    "This notebook uses some features of *pandas* that are available in version 0.17.1 or above."
   ]
  },
  {
   "cell_type": "code",
   "execution_count": 1,
   "metadata": {
    "collapsed": true
   },
   "outputs": [],
   "source": [
    "import pip\n",
    "REQUIRED_MINIMUM_PANDAS_VERSION = '0.17.1'\n",
    "try:\n",
    "    import pandas as pd\n",
    "    assert pd.__version__ >= REQUIRED_MINIMUM_PANDAS_VERSION\n",
    "except:\n",
    "    raise Exception(\"Version \" + REQUIRED_MINIMUM_PANDAS_VERSION + \" or above of Pandas is required to run this notebook\")"
   ]
  },
  {
   "cell_type": "markdown",
   "metadata": {},
   "source": [
    "## Use decision optimization"
   ]
  },
  {
   "cell_type": "markdown",
   "metadata": {},
   "source": [
    "### Step 1: Import the library\n",
    "\n",
    "Run the following code to the import the Decision Optimization CPLEX Modeling library.  The *DOcplex* library contains the two modeling packages, Mathematical Programming (*docplex.mp*) and Constraint Programming (*docplex.cp*)."
   ]
  },
  {
   "cell_type": "code",
   "execution_count": 2,
   "metadata": {
    "collapsed": true
   },
   "outputs": [],
   "source": [
    "import sys\n",
    "try:\n",
    "    import docplex.mp\n",
    "except:\n",
    "    raise Exception('Please install docplex. See https://pypi.org/project/docplex/')"
   ]
  },
  {
   "cell_type": "markdown",
   "metadata": {},
   "source": [
    "### Step 2: Model the data\n",
    "#### Load data from a *pandas* DataFrame\n",
    "\n",
    "Data for the Unit Commitment Problem is provided as a *pandas* DataFrame.\n",
    "For a standalone notebook, we provide the raw data as Python collections,\n",
    "but real data could be loaded\n",
    "from an Excel sheet, also using *pandas*."
   ]
  },
  {
   "cell_type": "code",
   "execution_count": 3,
   "metadata": {
    "collapsed": false
   },
   "outputs": [],
   "source": [
    "import pandas as pd\n",
    "from pandas import DataFrame, Series\n",
    "\n",
    "# make matplotlib plots appear inside the notebook\n",
    "import matplotlib.pyplot as plt\n",
    "%matplotlib inline\n",
    "from pylab import rcParams\n",
    "rcParams['figure.figsize'] = 11, 5 ############################ <-Use this to change the plot"
   ]
  },
  {
   "cell_type": "markdown",
   "metadata": {},
   "source": [
    "Update the configuration of notebook so that display matches browser window width."
   ]
  },
  {
   "cell_type": "code",
   "execution_count": 4,
   "metadata": {
    "collapsed": false
   },
   "outputs": [
    {
     "data": {
      "text/html": [
       "<style>.container { width:100%; }</style>"
      ],
      "text/plain": [
       "<IPython.core.display.HTML object>"
      ]
     },
     "execution_count": 4,
     "metadata": {},
     "output_type": "execute_result"
    }
   ],
   "source": [
    "from IPython.core.display import HTML\n",
    "HTML(\"<style>.container { width:100%; }</style>\")"
   ]
  },
  {
   "cell_type": "markdown",
   "metadata": {},
   "source": [
    "#### Available energy technologies\n",
    "\n",
    "The following *df_energy* DataFrame stores CO<sub>2</sub> cost information, indexed by energy type."
   ]
  },
  {
   "cell_type": "code",
   "execution_count": 5,
   "metadata": {
    "collapsed": false
   },
   "outputs": [
    {
     "data": {
      "text/html": [
       "<div>\n",
       "<style scoped>\n",
       "    .dataframe tbody tr th:only-of-type {\n",
       "        vertical-align: middle;\n",
       "    }\n",
       "\n",
       "    .dataframe tbody tr th {\n",
       "        vertical-align: top;\n",
       "    }\n",
       "\n",
       "    .dataframe thead th {\n",
       "        text-align: right;\n",
       "    }\n",
       "</style>\n",
       "<table border=\"1\" class=\"dataframe\">\n",
       "  <thead>\n",
       "    <tr style=\"text-align: right;\">\n",
       "      <th></th>\n",
       "      <th>co2_cost</th>\n",
       "    </tr>\n",
       "  </thead>\n",
       "  <tbody>\n",
       "    <tr>\n",
       "      <th>coal</th>\n",
       "      <td>30</td>\n",
       "    </tr>\n",
       "    <tr>\n",
       "      <th>gas</th>\n",
       "      <td>5</td>\n",
       "    </tr>\n",
       "    <tr>\n",
       "      <th>diesel</th>\n",
       "      <td>15</td>\n",
       "    </tr>\n",
       "    <tr>\n",
       "      <th>wind</th>\n",
       "      <td>0</td>\n",
       "    </tr>\n",
       "  </tbody>\n",
       "</table>\n",
       "</div>"
      ],
      "text/plain": [
       "        co2_cost\n",
       "coal          30\n",
       "gas            5\n",
       "diesel        15\n",
       "wind           0"
      ]
     },
     "execution_count": 5,
     "metadata": {},
     "output_type": "execute_result"
    }
   ],
   "source": [
    "energies = [\"coal\", \"gas\", \"diesel\", \"wind\"]\n",
    "df_energy = DataFrame({\"co2_cost\": [30, 5, 15, 0]}, index=energies)\n",
    "\n",
    "# Display the 'df_energy' Data Frame\n",
    "df_energy"
   ]
  },
  {
   "cell_type": "markdown",
   "metadata": {},
   "source": [
    "The following *df_units* DataFrame stores common elements for units of a given technology."
   ]
  },
  {
   "cell_type": "code",
   "execution_count": 6,
   "metadata": {
    "collapsed": false
   },
   "outputs": [
    {
     "data": {
      "text/html": [
       "<div>\n",
       "<style scoped>\n",
       "    .dataframe tbody tr th:only-of-type {\n",
       "        vertical-align: middle;\n",
       "    }\n",
       "\n",
       "    .dataframe tbody tr th {\n",
       "        vertical-align: top;\n",
       "    }\n",
       "\n",
       "    .dataframe thead th {\n",
       "        text-align: right;\n",
       "    }\n",
       "</style>\n",
       "<table border=\"1\" class=\"dataframe\">\n",
       "  <thead>\n",
       "    <tr style=\"text-align: right;\">\n",
       "      <th></th>\n",
       "      <th>energy</th>\n",
       "      <th>initial</th>\n",
       "      <th>min_gen</th>\n",
       "      <th>max_gen</th>\n",
       "      <th>operating_max_gen</th>\n",
       "      <th>min_uptime</th>\n",
       "      <th>min_downtime</th>\n",
       "      <th>ramp_up</th>\n",
       "      <th>ramp_down</th>\n",
       "      <th>start_cost</th>\n",
       "      <th>fixed_cost</th>\n",
       "      <th>variable_cost</th>\n",
       "    </tr>\n",
       "  </thead>\n",
       "  <tbody>\n",
       "    <tr>\n",
       "      <th>coal1</th>\n",
       "      <td>coal</td>\n",
       "      <td>400</td>\n",
       "      <td>100.00</td>\n",
       "      <td>425</td>\n",
       "      <td>400</td>\n",
       "      <td>15</td>\n",
       "      <td>9</td>\n",
       "      <td>212.0</td>\n",
       "      <td>183.0</td>\n",
       "      <td>5000</td>\n",
       "      <td>208.610</td>\n",
       "      <td>22.536</td>\n",
       "    </tr>\n",
       "    <tr>\n",
       "      <th>coal2</th>\n",
       "      <td>coal</td>\n",
       "      <td>350</td>\n",
       "      <td>140.00</td>\n",
       "      <td>365</td>\n",
       "      <td>350</td>\n",
       "      <td>15</td>\n",
       "      <td>8</td>\n",
       "      <td>150.0</td>\n",
       "      <td>198.0</td>\n",
       "      <td>4550</td>\n",
       "      <td>117.370</td>\n",
       "      <td>31.985</td>\n",
       "    </tr>\n",
       "    <tr>\n",
       "      <th>gas1</th>\n",
       "      <td>gas</td>\n",
       "      <td>205</td>\n",
       "      <td>78.00</td>\n",
       "      <td>220</td>\n",
       "      <td>205</td>\n",
       "      <td>6</td>\n",
       "      <td>7</td>\n",
       "      <td>101.2</td>\n",
       "      <td>95.6</td>\n",
       "      <td>1320</td>\n",
       "      <td>174.120</td>\n",
       "      <td>70.500</td>\n",
       "    </tr>\n",
       "    <tr>\n",
       "      <th>gas2</th>\n",
       "      <td>gas</td>\n",
       "      <td>52</td>\n",
       "      <td>52.00</td>\n",
       "      <td>210</td>\n",
       "      <td>197</td>\n",
       "      <td>5</td>\n",
       "      <td>4</td>\n",
       "      <td>94.8</td>\n",
       "      <td>101.7</td>\n",
       "      <td>1291</td>\n",
       "      <td>172.750</td>\n",
       "      <td>69.000</td>\n",
       "    </tr>\n",
       "    <tr>\n",
       "      <th>gas3</th>\n",
       "      <td>gas</td>\n",
       "      <td>155</td>\n",
       "      <td>54.25</td>\n",
       "      <td>165</td>\n",
       "      <td>155</td>\n",
       "      <td>5</td>\n",
       "      <td>3</td>\n",
       "      <td>58.0</td>\n",
       "      <td>77.5</td>\n",
       "      <td>1280</td>\n",
       "      <td>95.353</td>\n",
       "      <td>32.146</td>\n",
       "    </tr>\n",
       "    <tr>\n",
       "      <th>gas4</th>\n",
       "      <td>gas</td>\n",
       "      <td>150</td>\n",
       "      <td>39.00</td>\n",
       "      <td>158</td>\n",
       "      <td>150</td>\n",
       "      <td>4</td>\n",
       "      <td>2</td>\n",
       "      <td>50.0</td>\n",
       "      <td>60.0</td>\n",
       "      <td>1105</td>\n",
       "      <td>144.520</td>\n",
       "      <td>54.840</td>\n",
       "    </tr>\n",
       "    <tr>\n",
       "      <th>diesel1</th>\n",
       "      <td>diesel</td>\n",
       "      <td>78</td>\n",
       "      <td>17.40</td>\n",
       "      <td>90</td>\n",
       "      <td>78</td>\n",
       "      <td>3</td>\n",
       "      <td>2</td>\n",
       "      <td>40.0</td>\n",
       "      <td>24.0</td>\n",
       "      <td>560</td>\n",
       "      <td>54.417</td>\n",
       "      <td>40.222</td>\n",
       "    </tr>\n",
       "    <tr>\n",
       "      <th>diesel2</th>\n",
       "      <td>diesel</td>\n",
       "      <td>76</td>\n",
       "      <td>15.20</td>\n",
       "      <td>87</td>\n",
       "      <td>76</td>\n",
       "      <td>3</td>\n",
       "      <td>2</td>\n",
       "      <td>60.0</td>\n",
       "      <td>45.0</td>\n",
       "      <td>554</td>\n",
       "      <td>54.551</td>\n",
       "      <td>40.522</td>\n",
       "    </tr>\n",
       "    <tr>\n",
       "      <th>diesel3</th>\n",
       "      <td>diesel</td>\n",
       "      <td>0</td>\n",
       "      <td>4.00</td>\n",
       "      <td>20</td>\n",
       "      <td>20</td>\n",
       "      <td>1</td>\n",
       "      <td>1</td>\n",
       "      <td>20.0</td>\n",
       "      <td>20.0</td>\n",
       "      <td>300</td>\n",
       "      <td>79.638</td>\n",
       "      <td>116.330</td>\n",
       "    </tr>\n",
       "    <tr>\n",
       "      <th>diesel4</th>\n",
       "      <td>diesel</td>\n",
       "      <td>0</td>\n",
       "      <td>2.40</td>\n",
       "      <td>12</td>\n",
       "      <td>12</td>\n",
       "      <td>1</td>\n",
       "      <td>1</td>\n",
       "      <td>12.0</td>\n",
       "      <td>12.0</td>\n",
       "      <td>250</td>\n",
       "      <td>16.259</td>\n",
       "      <td>76.642</td>\n",
       "    </tr>\n",
       "  </tbody>\n",
       "</table>\n",
       "</div>"
      ],
      "text/plain": [
       "         energy  initial  min_gen  max_gen  operating_max_gen  min_uptime  \\\n",
       "coal1      coal      400   100.00      425                400          15   \n",
       "coal2      coal      350   140.00      365                350          15   \n",
       "gas1        gas      205    78.00      220                205           6   \n",
       "gas2        gas       52    52.00      210                197           5   \n",
       "gas3        gas      155    54.25      165                155           5   \n",
       "gas4        gas      150    39.00      158                150           4   \n",
       "diesel1  diesel       78    17.40       90                 78           3   \n",
       "diesel2  diesel       76    15.20       87                 76           3   \n",
       "diesel3  diesel        0     4.00       20                 20           1   \n",
       "diesel4  diesel        0     2.40       12                 12           1   \n",
       "\n",
       "         min_downtime  ramp_up  ramp_down  start_cost  fixed_cost  \\\n",
       "coal1               9    212.0      183.0        5000     208.610   \n",
       "coal2               8    150.0      198.0        4550     117.370   \n",
       "gas1                7    101.2       95.6        1320     174.120   \n",
       "gas2                4     94.8      101.7        1291     172.750   \n",
       "gas3                3     58.0       77.5        1280      95.353   \n",
       "gas4                2     50.0       60.0        1105     144.520   \n",
       "diesel1             2     40.0       24.0         560      54.417   \n",
       "diesel2             2     60.0       45.0         554      54.551   \n",
       "diesel3             1     20.0       20.0         300      79.638   \n",
       "diesel4             1     12.0       12.0         250      16.259   \n",
       "\n",
       "         variable_cost  \n",
       "coal1           22.536  \n",
       "coal2           31.985  \n",
       "gas1            70.500  \n",
       "gas2            69.000  \n",
       "gas3            32.146  \n",
       "gas4            54.840  \n",
       "diesel1         40.222  \n",
       "diesel2         40.522  \n",
       "diesel3        116.330  \n",
       "diesel4         76.642  "
      ]
     },
     "execution_count": 6,
     "metadata": {},
     "output_type": "execute_result"
    }
   ],
   "source": [
    "all_units = [\"coal1\", \"coal2\", \n",
    "             \"gas1\", \"gas2\", \"gas3\", \"gas4\", \n",
    "             \"diesel1\", \"diesel2\", \"diesel3\", \"diesel4\"]\n",
    "             \n",
    "ucp_raw_unit_data = {\n",
    "        \"energy\": [\"coal\", \"coal\", \"gas\", \"gas\", \"gas\", \"gas\", \"diesel\", \"diesel\", \"diesel\", \"diesel\"],\n",
    "        \"initial\" : [400, 350, 205, 52, 155, 150, 78, 76, 0, 0],\n",
    "        \"min_gen\": [100, 140, 78, 52, 54.25, 39, 17.4, 15.2, 4, 2.4],\n",
    "        \"max_gen\": [425, 365, 220, 210, 165, 158, 90, 87, 20, 12],\n",
    "        \"operating_max_gen\": [400, 350, 205, 197, 155, 150, 78, 76, 20, 12],\n",
    "        \"min_uptime\": [15, 15, 6, 5, 5, 4, 3, 3, 1, 1],\n",
    "        \"min_downtime\":[9, 8, 7, 4, 3, 2, 2, 2, 1, 1],\n",
    "        \"ramp_up\":   [212, 150, 101.2, 94.8, 58, 50, 40, 60, 20, 12],\n",
    "        \"ramp_down\": [183, 198, 95.6, 101.7, 77.5, 60, 24, 45, 20, 12],\n",
    "        \"start_cost\": [5000, 4550, 1320, 1291, 1280, 1105, 560, 554, 300, 250],\n",
    "        \"fixed_cost\": [208.61, 117.37, 174.12, 172.75, 95.353, 144.52, 54.417, 54.551, 79.638, 16.259],\n",
    "        \"variable_cost\": [22.536, 31.985, 70.5, 69, 32.146, 54.84, 40.222, 40.522, 116.33, 76.642],\n",
    "        }\n",
    "\n",
    "df_units = DataFrame(ucp_raw_unit_data, index=all_units)\n",
    "\n",
    "# Display the 'df_units' Data Frame\n",
    "df_units"
   ]
  },
  {
   "cell_type": "markdown",
   "metadata": {},
   "source": [
    "### Step 3: Prepare the data"
   ]
  },
  {
   "cell_type": "markdown",
   "metadata": {},
   "source": [
    "The *pandas* *merge* operation is used to create a join between the *df_units* and *df_energy* DataFrames. Here, the join is performed based on the *'energy'* column of *df_units* and index column of *df_energy*.\n",
    "\n",
    "By default, *merge* performs an *inner* join. That is, the resulting DataFrame is based on the **intersection** of keys from both input DataFrames."
   ]
  },
  {
   "cell_type": "code",
   "execution_count": 7,
   "metadata": {
    "collapsed": false
   },
   "outputs": [
    {
     "data": {
      "text/html": [
       "<div>\n",
       "<style scoped>\n",
       "    .dataframe tbody tr th:only-of-type {\n",
       "        vertical-align: middle;\n",
       "    }\n",
       "\n",
       "    .dataframe tbody tr th {\n",
       "        vertical-align: top;\n",
       "    }\n",
       "\n",
       "    .dataframe thead th {\n",
       "        text-align: right;\n",
       "    }\n",
       "</style>\n",
       "<table border=\"1\" class=\"dataframe\">\n",
       "  <thead>\n",
       "    <tr style=\"text-align: right;\">\n",
       "      <th></th>\n",
       "      <th>energy</th>\n",
       "      <th>initial</th>\n",
       "      <th>min_gen</th>\n",
       "      <th>max_gen</th>\n",
       "      <th>operating_max_gen</th>\n",
       "      <th>min_uptime</th>\n",
       "      <th>min_downtime</th>\n",
       "      <th>ramp_up</th>\n",
       "      <th>ramp_down</th>\n",
       "      <th>start_cost</th>\n",
       "      <th>fixed_cost</th>\n",
       "      <th>variable_cost</th>\n",
       "      <th>co2_cost</th>\n",
       "    </tr>\n",
       "    <tr>\n",
       "      <th>units</th>\n",
       "      <th></th>\n",
       "      <th></th>\n",
       "      <th></th>\n",
       "      <th></th>\n",
       "      <th></th>\n",
       "      <th></th>\n",
       "      <th></th>\n",
       "      <th></th>\n",
       "      <th></th>\n",
       "      <th></th>\n",
       "      <th></th>\n",
       "      <th></th>\n",
       "      <th></th>\n",
       "    </tr>\n",
       "  </thead>\n",
       "  <tbody>\n",
       "    <tr>\n",
       "      <th>coal1</th>\n",
       "      <td>coal</td>\n",
       "      <td>400</td>\n",
       "      <td>100.00</td>\n",
       "      <td>425</td>\n",
       "      <td>400</td>\n",
       "      <td>15</td>\n",
       "      <td>9</td>\n",
       "      <td>212.0</td>\n",
       "      <td>183.0</td>\n",
       "      <td>5000</td>\n",
       "      <td>208.610</td>\n",
       "      <td>22.536</td>\n",
       "      <td>30</td>\n",
       "    </tr>\n",
       "    <tr>\n",
       "      <th>coal2</th>\n",
       "      <td>coal</td>\n",
       "      <td>350</td>\n",
       "      <td>140.00</td>\n",
       "      <td>365</td>\n",
       "      <td>350</td>\n",
       "      <td>15</td>\n",
       "      <td>8</td>\n",
       "      <td>150.0</td>\n",
       "      <td>198.0</td>\n",
       "      <td>4550</td>\n",
       "      <td>117.370</td>\n",
       "      <td>31.985</td>\n",
       "      <td>30</td>\n",
       "    </tr>\n",
       "    <tr>\n",
       "      <th>gas1</th>\n",
       "      <td>gas</td>\n",
       "      <td>205</td>\n",
       "      <td>78.00</td>\n",
       "      <td>220</td>\n",
       "      <td>205</td>\n",
       "      <td>6</td>\n",
       "      <td>7</td>\n",
       "      <td>101.2</td>\n",
       "      <td>95.6</td>\n",
       "      <td>1320</td>\n",
       "      <td>174.120</td>\n",
       "      <td>70.500</td>\n",
       "      <td>5</td>\n",
       "    </tr>\n",
       "    <tr>\n",
       "      <th>gas2</th>\n",
       "      <td>gas</td>\n",
       "      <td>52</td>\n",
       "      <td>52.00</td>\n",
       "      <td>210</td>\n",
       "      <td>197</td>\n",
       "      <td>5</td>\n",
       "      <td>4</td>\n",
       "      <td>94.8</td>\n",
       "      <td>101.7</td>\n",
       "      <td>1291</td>\n",
       "      <td>172.750</td>\n",
       "      <td>69.000</td>\n",
       "      <td>5</td>\n",
       "    </tr>\n",
       "    <tr>\n",
       "      <th>gas3</th>\n",
       "      <td>gas</td>\n",
       "      <td>155</td>\n",
       "      <td>54.25</td>\n",
       "      <td>165</td>\n",
       "      <td>155</td>\n",
       "      <td>5</td>\n",
       "      <td>3</td>\n",
       "      <td>58.0</td>\n",
       "      <td>77.5</td>\n",
       "      <td>1280</td>\n",
       "      <td>95.353</td>\n",
       "      <td>32.146</td>\n",
       "      <td>5</td>\n",
       "    </tr>\n",
       "  </tbody>\n",
       "</table>\n",
       "</div>"
      ],
      "text/plain": [
       "      energy  initial  min_gen  max_gen  operating_max_gen  min_uptime  \\\n",
       "units                                                                    \n",
       "coal1   coal      400   100.00      425                400          15   \n",
       "coal2   coal      350   140.00      365                350          15   \n",
       "gas1     gas      205    78.00      220                205           6   \n",
       "gas2     gas       52    52.00      210                197           5   \n",
       "gas3     gas      155    54.25      165                155           5   \n",
       "\n",
       "       min_downtime  ramp_up  ramp_down  start_cost  fixed_cost  \\\n",
       "units                                                             \n",
       "coal1             9    212.0      183.0        5000     208.610   \n",
       "coal2             8    150.0      198.0        4550     117.370   \n",
       "gas1              7    101.2       95.6        1320     174.120   \n",
       "gas2              4     94.8      101.7        1291     172.750   \n",
       "gas3              3     58.0       77.5        1280      95.353   \n",
       "\n",
       "       variable_cost  co2_cost  \n",
       "units                           \n",
       "coal1         22.536        30  \n",
       "coal2         31.985        30  \n",
       "gas1          70.500         5  \n",
       "gas2          69.000         5  \n",
       "gas3          32.146         5  "
      ]
     },
     "execution_count": 7,
     "metadata": {},
     "output_type": "execute_result"
    }
   ],
   "source": [
    "# Add a derived co2-cost column by merging with df_energies\n",
    "# Use energy key from units and index from energy dataframe\n",
    "df_up = pd.merge(df_units, df_energy, left_on=\"energy\", right_index=True)\n",
    "df_up.index.names=['units']\n",
    "\n",
    "# Display first rows of new 'df_up' Data Frame\n",
    "df_up.head()"
   ]
  },
  {
   "cell_type": "markdown",
   "metadata": {},
   "source": [
    "The demand is stored as a *pandas* _Series_ indexed from 1 to the number of periods."
   ]
  },
  {
   "cell_type": "code",
   "execution_count": 8,
   "metadata": {
    "collapsed": false
   },
   "outputs": [
    {
     "name": "stdout",
     "output_type": "stream",
     "text": [
      "nb periods = 192\n"
     ]
    },
    {
     "data": {
      "text/plain": [
       "<matplotlib.axes._subplots.AxesSubplot at 0x26f1f687c18>"
      ]
     },
     "execution_count": 8,
     "metadata": {},
     "output_type": "execute_result"
    },
    {
     "data": {
      "image/png": "[encoded data removed]",
      "text/plain": [
       "<Figure size 432x288 with 1 Axes>"
      ]
     },
     "metadata": {
      "needs_background": "light"
     },
     "output_type": "display_data"
    }
   ],
   "source": [
    "raw_demand = [1259.0, 1439.0, 1289.0, 1211.0, 1433.0, 1287.0, 1285.0, 1227.0, 1269.0, 1158.0, 1277.0, 1417.0, 1294.0, 1396.0, 1414.0, 1386.0,\n",
    "              1302.0, 1215.0, 1433.0, 1354.0, 1436.0, 1285.0, 1332.0, 1172.0, 1446.0, 1367.0, 1243.0, 1275.0, 1363.0, 1208.0, 1394.0, 1345.0, \n",
    "              1217.0, 1432.0, 1431.0, 1356.0, 1360.0, 1364.0, 1286.0, 1440.0, 1440.0, 1313.0, 1389.0, 1385.0, 1265.0, 1442.0, 1435.0, 1432.0, \n",
    "              1280.0, 1411.0, 1440.0, 1258.0, 1333.0, 1293.0, 1193.0, 1440.0, 1306.0, 1264.0, 1244.0, 1368.0, 1437.0, 1236.0, 1354.0, 1356.0, \n",
    "              1383.0, 1350.0, 1354.0, 1329.0, 1427.0, 1163.0, 1339.0, 1351.0, 1174.0, 1235.0, 1439.0, 1235.0, 1245.0, 1262.0, 1362.0, 1184.0, \n",
    "              1207.0, 1359.0, 1443.0, 1205.0, 1192.0, 1364.0, 1233.0, 1281.0, 1295.0, 1357.0, 1191.0, 1329.0, 1294.0, 1334.0, 1265.0, 1207.0, \n",
    "              1365.0, 1432.0, 1199.0, 1191.0, 1411.0, 1294.0, 1244.0, 1256.0, 1257.0, 1224.0, 1277.0, 1246.0, 1243.0, 1194.0, 1389.0, 1366.0, \n",
    "              1282.0, 1221.0, 1255.0, 1417.0, 1358.0, 1264.0, 1205.0, 1254.0, 1276.0, 1435.0, 1335.0, 1355.0, 1337.0, 1197.0, 1423.0, 1194.0, \n",
    "              1310.0, 1255.0, 1300.0, 1388.0, 1385.0, 1255.0, 1434.0, 1232.0, 1402.0, 1435.0, 1160.0, 1193.0, 1422.0, 1235.0, 1219.0, 1410.0, \n",
    "              1363.0, 1361.0, 1437.0, 1407.0, 1164.0, 1392.0, 1408.0, 1196.0, 1430.0, 1264.0, 1289.0, 1434.0, 1216.0, 1340.0, 1327.0, 1230.0, \n",
    "              1362.0, 1360.0, 1448.0, 1220.0, 1435.0, 1425.0, 1413.0, 1279.0, 1269.0, 1162.0, 1437.0, 1441.0, 1433.0, 1307.0, 1436.0, 1357.0, \n",
    "              1437.0, 1308.0, 1207.0, 1420.0, 1338.0, 1311.0, 1328.0, 1417.0, 1394.0, 1336.0, 1160.0, 1231.0, 1422.0, 1294.0, 1434.0, 1289.0]\n",
    "nb_periods = len(raw_demand)\n",
    "print(\"nb periods = {}\".format(nb_periods))\n",
    "\n",
    "demand = Series(raw_demand, index = range(1, nb_periods+1))\n",
    "\n",
    "# plot demand\n",
    "demand.plot(title=\"Demand\")"
   ]
  },
  {
   "cell_type": "markdown",
   "metadata": {},
   "source": [
    "### Step 4: Set up the prescriptive model"
   ]
  },
  {
   "cell_type": "code",
   "execution_count": 9,
   "metadata": {
    "collapsed": false
   },
   "outputs": [
    {
     "name": "stdout",
     "output_type": "stream",
     "text": [
      "* system is: Windows 64bit\n",
      "* Python is present, version is 3.6.8\n",
      "* docplex is present, version is (2, 4, 61)\n",
      "* CPLEX wrapper is present, version is 12.8.0.0, located at: C:\\Miniconda3\\lib\\site-packages\n"
     ]
    }
   ],
   "source": [
    "from docplex.mp.environment import Environment\n",
    "env = Environment()\n",
    "env.print_information()"
   ]
  },
  {
   "cell_type": "markdown",
   "metadata": {},
   "source": [
    "#### Create the DOcplex model\n",
    "The model contains all the business constraints and defines the objective."
   ]
  },
  {
   "cell_type": "code",
   "execution_count": 10,
   "metadata": {
    "collapsed": false
   },
   "outputs": [],
   "source": [
    "from docplex.mp.model import Model\n",
    "\n",
    "ucpm = Model(\"ucp\")"
   ]
  },
  {
   "cell_type": "markdown",
   "metadata": {},
   "source": [
    "#### Define the decision variables\n",
    "\n",
    "Decision variables are:\n",
    "\n",
    "- The variable *in_use[u,t]* is 1 if and only if unit _u_ is working at period _t_.\n",
    "- The variable *turn_on[u,t]* is 1 if and only if unit _u_ is in production at period _t_.\n",
    "- The variable *turn_off[u,t]* is 1 if unit _u_ is switched off at period _t_.\n",
    "- The variable *production[u,t]* is a continuous variables representing the production of energy for unit _u_ at period _t_."
   ]
  },
  {
   "cell_type": "code",
   "execution_count": 11,
   "metadata": {
    "collapsed": false
   },
   "outputs": [
    {
     "name": "stdout",
     "output_type": "stream",
     "text": [
      "Model: ucp\n",
      " - number of variables: 7680\n",
      "   - binary=5760, integer=0, continuous=1920\n",
      " - number of constraints: 0\n",
      "   - linear=0\n",
      " - parameters: defaults\n"
     ]
    }
   ],
   "source": [
    "units = all_units\n",
    "# periods range from 1 to nb_periods included\n",
    "periods = range(1, nb_periods+1)\n",
    "\n",
    "# in use[u,t] is true iff unit u is in production at period t\n",
    "in_use = ucpm.binary_var_matrix(keys1=units, keys2=periods, name=\"in_use\")\n",
    "\n",
    "# true if unit u is turned on at period t\n",
    "turn_on = ucpm.binary_var_matrix(keys1=units, keys2=periods, name=\"turn_on\")\n",
    "\n",
    "# true if unit u is switched off at period t\n",
    "# modeled as a continuous 0-1 variable, more on this later\n",
    "turn_off = ucpm.binary_var_matrix(keys1=units, keys2=periods, name=\"turn_off\")\n",
    "\n",
    "# production of energy for unit u at period t\n",
    "production = ucpm.continuous_var_matrix(keys1=units, keys2=periods, name=\"p\")\n",
    "\n",
    "# at this stage we have defined the decision variables.\n",
    "ucpm.print_information()"
   ]
  },
  {
   "cell_type": "code",
   "execution_count": 12,
   "metadata": {
    "collapsed": false
   },
   "outputs": [
    {
     "data": {
      "text/html": [
       "<div>\n",
       "<style scoped>\n",
       "    .dataframe tbody tr th:only-of-type {\n",
       "        vertical-align: middle;\n",
       "    }\n",
       "\n",
       "    .dataframe tbody tr th {\n",
       "        vertical-align: top;\n",
       "    }\n",
       "\n",
       "    .dataframe thead th {\n",
       "        text-align: right;\n",
       "    }\n",
       "</style>\n",
       "<table border=\"1\" class=\"dataframe\">\n",
       "  <thead>\n",
       "    <tr style=\"text-align: right;\">\n",
       "      <th></th>\n",
       "      <th></th>\n",
       "      <th>in_use</th>\n",
       "      <th>turn_on</th>\n",
       "      <th>turn_off</th>\n",
       "      <th>production</th>\n",
       "    </tr>\n",
       "    <tr>\n",
       "      <th>units</th>\n",
       "      <th>periods</th>\n",
       "      <th></th>\n",
       "      <th></th>\n",
       "      <th></th>\n",
       "      <th></th>\n",
       "    </tr>\n",
       "  </thead>\n",
       "  <tbody>\n",
       "    <tr>\n",
       "      <th rowspan=\"5\" valign=\"top\">coal1</th>\n",
       "      <th>1</th>\n",
       "      <td>in_use_coal1_1</td>\n",
       "      <td>turn_on_coal1_1</td>\n",
       "      <td>turn_off_coal1_1</td>\n",
       "      <td>p_coal1_1</td>\n",
       "    </tr>\n",
       "    <tr>\n",
       "      <th>2</th>\n",
       "      <td>in_use_coal1_2</td>\n",
       "      <td>turn_on_coal1_2</td>\n",
       "      <td>turn_off_coal1_2</td>\n",
       "      <td>p_coal1_2</td>\n",
       "    </tr>\n",
       "    <tr>\n",
       "      <th>3</th>\n",
       "      <td>in_use_coal1_3</td>\n",
       "      <td>turn_on_coal1_3</td>\n",
       "      <td>turn_off_coal1_3</td>\n",
       "      <td>p_coal1_3</td>\n",
       "    </tr>\n",
       "    <tr>\n",
       "      <th>4</th>\n",
       "      <td>in_use_coal1_4</td>\n",
       "      <td>turn_on_coal1_4</td>\n",
       "      <td>turn_off_coal1_4</td>\n",
       "      <td>p_coal1_4</td>\n",
       "    </tr>\n",
       "    <tr>\n",
       "      <th>5</th>\n",
       "      <td>in_use_coal1_5</td>\n",
       "      <td>turn_on_coal1_5</td>\n",
       "      <td>turn_off_coal1_5</td>\n",
       "      <td>p_coal1_5</td>\n",
       "    </tr>\n",
       "  </tbody>\n",
       "</table>\n",
       "</div>"
      ],
      "text/plain": [
       "                       in_use          turn_on          turn_off production\n",
       "units periods                                                              \n",
       "coal1 1        in_use_coal1_1  turn_on_coal1_1  turn_off_coal1_1  p_coal1_1\n",
       "      2        in_use_coal1_2  turn_on_coal1_2  turn_off_coal1_2  p_coal1_2\n",
       "      3        in_use_coal1_3  turn_on_coal1_3  turn_off_coal1_3  p_coal1_3\n",
       "      4        in_use_coal1_4  turn_on_coal1_4  turn_off_coal1_4  p_coal1_4\n",
       "      5        in_use_coal1_5  turn_on_coal1_5  turn_off_coal1_5  p_coal1_5"
      ]
     },
     "execution_count": 12,
     "metadata": {},
     "output_type": "execute_result"
    }
   ],
   "source": [
    "# Organize all decision variables in a DataFrame indexed by 'units' and 'periods'\n",
    "df_decision_vars = DataFrame({'in_use': in_use, 'turn_on': turn_on, 'turn_off': turn_off, 'production': production})\n",
    "# Set index names\n",
    "df_decision_vars.index.names=['units', 'periods']\n",
    "\n",
    "# Display first few rows of 'df_decision_vars' DataFrame\n",
    "df_decision_vars.head()"
   ]
  },
  {
   "cell_type": "markdown",
   "metadata": {},
   "source": [
    "#### Express the business constraints\n",
    "\n",
    "##### Linking in-use status to production\n",
    "\n",
    "Whenever the unit is in use, the production must be within the minimum and maximum generation.\n"
   ]
  },
  {
   "cell_type": "code",
   "execution_count": 13,
   "metadata": {
    "collapsed": false
   },
   "outputs": [
    {
     "data": {
      "text/html": [
       "<div>\n",
       "<style scoped>\n",
       "    .dataframe tbody tr th:only-of-type {\n",
       "        vertical-align: middle;\n",
       "    }\n",
       "\n",
       "    .dataframe tbody tr th {\n",
       "        vertical-align: top;\n",
       "    }\n",
       "\n",
       "    .dataframe thead th {\n",
       "        text-align: right;\n",
       "    }\n",
       "</style>\n",
       "<table border=\"1\" class=\"dataframe\">\n",
       "  <thead>\n",
       "    <tr style=\"text-align: right;\">\n",
       "      <th></th>\n",
       "      <th></th>\n",
       "      <th>in_use</th>\n",
       "      <th>turn_on</th>\n",
       "      <th>turn_off</th>\n",
       "      <th>production</th>\n",
       "      <th>min_gen</th>\n",
       "      <th>max_gen</th>\n",
       "    </tr>\n",
       "    <tr>\n",
       "      <th>units</th>\n",
       "      <th>periods</th>\n",
       "      <th></th>\n",
       "      <th></th>\n",
       "      <th></th>\n",
       "      <th></th>\n",
       "      <th></th>\n",
       "      <th></th>\n",
       "    </tr>\n",
       "  </thead>\n",
       "  <tbody>\n",
       "    <tr>\n",
       "      <th rowspan=\"5\" valign=\"top\">coal1</th>\n",
       "      <th>1</th>\n",
       "      <td>in_use_coal1_1</td>\n",
       "      <td>turn_on_coal1_1</td>\n",
       "      <td>turn_off_coal1_1</td>\n",
       "      <td>p_coal1_1</td>\n",
       "      <td>100.0</td>\n",
       "      <td>425</td>\n",
       "    </tr>\n",
       "    <tr>\n",
       "      <th>2</th>\n",
       "      <td>in_use_coal1_2</td>\n",
       "      <td>turn_on_coal1_2</td>\n",
       "      <td>turn_off_coal1_2</td>\n",
       "      <td>p_coal1_2</td>\n",
       "      <td>100.0</td>\n",
       "      <td>425</td>\n",
       "    </tr>\n",
       "    <tr>\n",
       "      <th>3</th>\n",
       "      <td>in_use_coal1_3</td>\n",
       "      <td>turn_on_coal1_3</td>\n",
       "      <td>turn_off_coal1_3</td>\n",
       "      <td>p_coal1_3</td>\n",
       "      <td>100.0</td>\n",
       "      <td>425</td>\n",
       "    </tr>\n",
       "    <tr>\n",
       "      <th>4</th>\n",
       "      <td>in_use_coal1_4</td>\n",
       "      <td>turn_on_coal1_4</td>\n",
       "      <td>turn_off_coal1_4</td>\n",
       "      <td>p_coal1_4</td>\n",
       "      <td>100.0</td>\n",
       "      <td>425</td>\n",
       "    </tr>\n",
       "    <tr>\n",
       "      <th>5</th>\n",
       "      <td>in_use_coal1_5</td>\n",
       "      <td>turn_on_coal1_5</td>\n",
       "      <td>turn_off_coal1_5</td>\n",
       "      <td>p_coal1_5</td>\n",
       "      <td>100.0</td>\n",
       "      <td>425</td>\n",
       "    </tr>\n",
       "  </tbody>\n",
       "</table>\n",
       "</div>"
      ],
      "text/plain": [
       "                       in_use          turn_on          turn_off production  \\\n",
       "units periods                                                                 \n",
       "coal1 1        in_use_coal1_1  turn_on_coal1_1  turn_off_coal1_1  p_coal1_1   \n",
       "      2        in_use_coal1_2  turn_on_coal1_2  turn_off_coal1_2  p_coal1_2   \n",
       "      3        in_use_coal1_3  turn_on_coal1_3  turn_off_coal1_3  p_coal1_3   \n",
       "      4        in_use_coal1_4  turn_on_coal1_4  turn_off_coal1_4  p_coal1_4   \n",
       "      5        in_use_coal1_5  turn_on_coal1_5  turn_off_coal1_5  p_coal1_5   \n",
       "\n",
       "               min_gen  max_gen  \n",
       "units periods                    \n",
       "coal1 1          100.0      425  \n",
       "      2          100.0      425  \n",
       "      3          100.0      425  \n",
       "      4          100.0      425  \n",
       "      5          100.0      425  "
      ]
     },
     "execution_count": 13,
     "metadata": {},
     "output_type": "execute_result"
    }
   ],
   "source": [
    "# Create a join between 'df_decision_vars' and 'df_up' Data Frames based on common index id (ie: 'units')\n",
    "# In 'df_up', one keeps only relevant columns: 'min_gen' and 'max_gen'\n",
    "df_join_decision_vars_up = df_decision_vars.join(df_up[['min_gen', 'max_gen']], how='inner')\n",
    "\n",
    "# Display first few rows of joined Data Frames\n",
    "df_join_decision_vars_up.head()"
   ]
  },
  {
   "cell_type": "code",
   "execution_count": 14,
   "metadata": {
    "collapsed": false
   },
   "outputs": [
    {
     "name": "stdout",
     "output_type": "stream",
     "text": [
      "0.24.2\n"
     ]
    }
   ],
   "source": [
    "import pandas as pb\n",
    "print(pd.__version__)\n"
   ]
  },
  {
   "cell_type": "code",
   "execution_count": 15,
   "metadata": {
    "collapsed": false
   },
   "outputs": [],
   "source": [
    "# When in use, the production level is constrained to be between min and max generation.\n",
    "for item in df_join_decision_vars_up.itertuples(index=False):\n",
    "    ucpm.add_constraint(item.production <= item.max_gen * item.in_use)\n",
    "    ucpm.add_constraint(item.production >= item.min_gen * item.in_use)"
   ]
  },
  {
   "cell_type": "code",
   "execution_count": 16,
   "metadata": {},
   "outputs": [
    {
     "name": "stdout",
     "output_type": "stream",
     "text": [
      "Model: ucp\n",
      " - number of variables: 7680\n",
      "   - binary=5760, integer=0, continuous=1920\n",
      " - number of constraints: 3840\n",
      "   - linear=3840\n",
      " - parameters: defaults\n"
     ]
    }
   ],
   "source": [
    "ucpm.print_information()"
   ]
  },
  {
   "cell_type": "markdown",
   "metadata": {},
   "source": [
    "##### Initial state\n",
    "The solution must take into account the initial state. The initial state of use of the unit is determined by its initial production level."
   ]
  },
  {
   "cell_type": "code",
   "execution_count": 17,
   "metadata": {
    "collapsed": false
   },
   "outputs": [
    {
     "name": "stdout",
     "output_type": "stream",
     "text": [
      "Model: ucp\n",
      " - number of variables: 7680\n",
      "   - binary=5760, integer=0, continuous=1920\n",
      " - number of constraints: 3860\n",
      "   - linear=3860\n",
      " - parameters: defaults\n"
     ]
    }
   ],
   "source": [
    "# Initial state\n",
    "# If initial production is nonzero, then period #1 is not a turn_on\n",
    "# else turn_on equals in_use\n",
    "# Dual logic is implemented for turn_off\n",
    "for u in units:\n",
    "    if df_up.initial[u] > 0:\n",
    "        # if u is already running, not starting up\n",
    "        ucpm.add_constraint(turn_on[u, 1] == 0)\n",
    "        # turnoff iff not in use\n",
    "        ucpm.add_constraint(turn_off[u, 1] + in_use[u, 1] == 1)\n",
    "    else:\n",
    "        # turn on at 1 iff in use at 1\n",
    "        ucpm.add_constraint(turn_on[u, 1] == in_use[u, 1])\n",
    "        # already off, not switched off at t==1\n",
    "        ucpm.add_constraint(turn_off[u, 1] == 0)\n",
    "ucpm.print_information()\n"
   ]
  },
  {
   "cell_type": "markdown",
   "metadata": {},
   "source": [
    "##### Ramp-up / ramp-down constraint\n",
    "Variations of the production level over time in a unit is constrained by a ramp-up / ramp-down process.\n",
    "\n",
    "We use the *pandas* *groupby* operation to collect all decision variables for each unit in separate series. Then, we iterate over units to post constraints enforcing the ramp-up / ramp-down process by setting upper bounds on the variation of the production level for consecutive periods."
   ]
  },
  {
   "cell_type": "code",
   "execution_count": 18,
   "metadata": {
    "collapsed": false
   },
   "outputs": [
    {
     "name": "stdout",
     "output_type": "stream",
     "text": [
      "Model: ucp\n",
      " - number of variables: 7680\n",
      "   - binary=5760, integer=0, continuous=1920\n",
      " - number of constraints: 7700\n",
      "   - linear=7700\n",
      " - parameters: defaults\n"
     ]
    }
   ],
   "source": [
    "# Use groupby operation to process each unit\n",
    "for unit, r in df_decision_vars.groupby(level='units'):\n",
    "    u_ramp_up = df_up.ramp_up[unit]\n",
    "    u_ramp_down = df_up.ramp_down[unit]\n",
    "    u_initial = df_up.initial[unit]\n",
    "    # Initial ramp up/down\n",
    "    # Note that r.production is a Series that can be indexed as an array (ie: first item index = 0)\n",
    "    ucpm.add_constraint(r.production[0] - u_initial <= u_ramp_up)\n",
    "    ucpm.add_constraint(u_initial - r.production[0] <= u_ramp_down)\n",
    "    for (p_curr, p_next) in zip(r.production, r.production[1:]):\n",
    "        ucpm.add_constraint(p_next - p_curr <= u_ramp_up)\n",
    "        ucpm.add_constraint(p_curr - p_next <= u_ramp_down)\n",
    "\n",
    "ucpm.print_information()"
   ]
  },
  {
   "cell_type": "markdown",
   "metadata": {},
   "source": [
    "##### Turn on / turn off\n",
    "The following constraints determine when a unit is turned on or off.\n",
    "\n",
    "We use the same *pandas* *groupby* operation as in the previous constraint to iterate over the sequence of decision variables for each unit."
   ]
  },
  {
   "cell_type": "code",
   "execution_count": 19,
   "metadata": {
    "collapsed": false
   },
   "outputs": [
    {
     "name": "stdout",
     "output_type": "stream",
     "text": [
      "Model: ucp\n",
      " - number of variables: 7680\n",
      "   - binary=5760, integer=0, continuous=1920\n",
      " - number of constraints: 11520\n",
      "   - linear=11520\n",
      " - parameters: defaults\n"
     ]
    }
   ],
   "source": [
    "# Turn_on, turn_off\n",
    "# Use groupby operation to process each unit\n",
    "for unit, r in df_decision_vars.groupby(level='units'):\n",
    "    for (in_use_curr, in_use_next, turn_on_next, turn_off_next) in zip(r.in_use, r.in_use[1:], r.turn_on[1:], r.turn_off[1:]):\n",
    "        # if unit is off at time t and on at time t+1, then it was turned on at time t+1\n",
    "        ucpm.add_constraint(in_use_next - in_use_curr <= turn_on_next)\n",
    "\n",
    "        # if unit is on at time t and time t+1, then it was not turned on at time t+1\n",
    "        # mdl.add_constraint(in_use_next + in_use_curr + turn_on_next <= 2)\n",
    "\n",
    "        # if unit is on at time t and off at time t+1, then it was turned off at time t+1\n",
    "        ucpm.add_constraint(in_use_curr - in_use_next + turn_on_next == turn_off_next)\n",
    "ucpm.print_information()  "
   ]
  },
  {
   "cell_type": "code",
   "execution_count": 20,
   "metadata": {
    "collapsed": false
   },
   "outputs": [],
   "source": [
    "r.in_use.size\n",
    "m = zip(r.in_use, r.in_use[1:], r.turn_on[1:], r.turn_off[1:])"
   ]
  },
  {
   "cell_type": "markdown",
   "metadata": {},
   "source": [
    "##### Minimum uptime and downtime\n",
    "When a unit is turned on, it cannot be turned off before a *minimum uptime*. Conversely, when a unit is turned off, it cannot be turned on again before a *minimum downtime*.\n",
    "\n",
    "Again, let's use the same *pandas* *groupby* operation to implement this constraint for each unit."
   ]
  },
  {
   "cell_type": "code",
   "execution_count": 21,
   "metadata": {
    "collapsed": false
   },
   "outputs": [],
   "source": [
    "# Minimum uptime, downtime\n",
    "for unit, r in df_decision_vars.groupby(level='units'):\n",
    "    min_uptime   = df_up.min_uptime[unit]\n",
    "    min_downtime = df_up.min_downtime[unit]\n",
    "    # Note that r.turn_on and r.in_use are Series that can be indexed as arrays (ie: first item index = 0)\n",
    "    for t in range(min_uptime, nb_periods):\n",
    "        ctname = \"min_up_{0!s}_{1}\".format(*r.index[t])\n",
    "        ucpm.add_constraint(ucpm.sum(r.turn_on[(t - min_uptime) + 1:t + 1]) <= r.in_use[t], ctname) ## @@@@ NOT INCLUDE FIRST ONE. should be included!!!\n",
    "        #print(t)\n",
    "    for t in range(min_downtime, nb_periods):\n",
    "        ctname = \"min_down_{0!s}_{1}\".format(*r.index[t])\n",
    "        ucpm.add_constraint(ucpm.sum(r.turn_off[(t - min_downtime) + 1:t + 1]) <= 1 - r.in_use[t], ctname)\n"
   ]
  },
  {
   "cell_type": "code",
   "execution_count": null,
   "metadata": {},
   "outputs": [],
   "source": []
  },
  {
   "cell_type": "markdown",
   "metadata": {},
   "source": [
    "##### Demand constraint\n",
    "Total production level must be equal or higher than demand on any period.\n",
    "\n",
    "This time, the *pandas* operation *groupby* is performed on *\"periods\"* since we have to iterate over the list of all units for each period."
   ]
  },
  {
   "cell_type": "code",
   "execution_count": 22,
   "metadata": {
    "collapsed": false
   },
   "outputs": [],
   "source": [
    "# Enforcing demand\n",
    "# we use a >= here to be more robust, \n",
    "# objective will ensure  we produce efficiently\n",
    "for period, r in df_decision_vars.groupby(level='periods'):\n",
    "    total_demand = demand[period]\n",
    "    ctname = \"ct_meet_demand_%d\" % period\n",
    "    ucpm.add_constraint(ucpm.sum(r.production) >= total_demand, ctname) "
   ]
  },
  {
   "cell_type": "markdown",
   "metadata": {},
   "source": [
    "#### Express the objective\n",
    "\n",
    "Operating the different units incur different costs: fixed cost, variable cost, startup cost, co2 cost.\n",
    "\n",
    "In a first step, we define the objective as a non-weighted sum of all these costs.\n",
    "\n",
    "The following *pandas* *join* operation groups all the data to calculate the objective in a single DataFrame."
   ]
  },
  {
   "cell_type": "code",
   "execution_count": 23,
   "metadata": {
    "collapsed": false
   },
   "outputs": [
    {
     "data": {
      "text/html": [
       "<div>\n",
       "<style scoped>\n",
       "    .dataframe tbody tr th:only-of-type {\n",
       "        vertical-align: middle;\n",
       "    }\n",
       "\n",
       "    .dataframe tbody tr th {\n",
       "        vertical-align: top;\n",
       "    }\n",
       "\n",
       "    .dataframe thead th {\n",
       "        text-align: right;\n",
       "    }\n",
       "</style>\n",
       "<table border=\"1\" class=\"dataframe\">\n",
       "  <thead>\n",
       "    <tr style=\"text-align: right;\">\n",
       "      <th></th>\n",
       "      <th></th>\n",
       "      <th>in_use</th>\n",
       "      <th>turn_on</th>\n",
       "      <th>turn_off</th>\n",
       "      <th>production</th>\n",
       "      <th>fixed_cost</th>\n",
       "      <th>variable_cost</th>\n",
       "      <th>start_cost</th>\n",
       "      <th>co2_cost</th>\n",
       "    </tr>\n",
       "    <tr>\n",
       "      <th>units</th>\n",
       "      <th>periods</th>\n",
       "      <th></th>\n",
       "      <th></th>\n",
       "      <th></th>\n",
       "      <th></th>\n",
       "      <th></th>\n",
       "      <th></th>\n",
       "      <th></th>\n",
       "      <th></th>\n",
       "    </tr>\n",
       "  </thead>\n",
       "  <tbody>\n",
       "    <tr>\n",
       "      <th rowspan=\"5\" valign=\"top\">coal1</th>\n",
       "      <th>1</th>\n",
       "      <td>in_use_coal1_1</td>\n",
       "      <td>turn_on_coal1_1</td>\n",
       "      <td>turn_off_coal1_1</td>\n",
       "      <td>p_coal1_1</td>\n",
       "      <td>208.61</td>\n",
       "      <td>22.536</td>\n",
       "      <td>5000</td>\n",
       "      <td>30</td>\n",
       "    </tr>\n",
       "    <tr>\n",
       "      <th>2</th>\n",
       "      <td>in_use_coal1_2</td>\n",
       "      <td>turn_on_coal1_2</td>\n",
       "      <td>turn_off_coal1_2</td>\n",
       "      <td>p_coal1_2</td>\n",
       "      <td>208.61</td>\n",
       "      <td>22.536</td>\n",
       "      <td>5000</td>\n",
       "      <td>30</td>\n",
       "    </tr>\n",
       "    <tr>\n",
       "      <th>3</th>\n",
       "      <td>in_use_coal1_3</td>\n",
       "      <td>turn_on_coal1_3</td>\n",
       "      <td>turn_off_coal1_3</td>\n",
       "      <td>p_coal1_3</td>\n",
       "      <td>208.61</td>\n",
       "      <td>22.536</td>\n",
       "      <td>5000</td>\n",
       "      <td>30</td>\n",
       "    </tr>\n",
       "    <tr>\n",
       "      <th>4</th>\n",
       "      <td>in_use_coal1_4</td>\n",
       "      <td>turn_on_coal1_4</td>\n",
       "      <td>turn_off_coal1_4</td>\n",
       "      <td>p_coal1_4</td>\n",
       "      <td>208.61</td>\n",
       "      <td>22.536</td>\n",
       "      <td>5000</td>\n",
       "      <td>30</td>\n",
       "    </tr>\n",
       "    <tr>\n",
       "      <th>5</th>\n",
       "      <td>in_use_coal1_5</td>\n",
       "      <td>turn_on_coal1_5</td>\n",
       "      <td>turn_off_coal1_5</td>\n",
       "      <td>p_coal1_5</td>\n",
       "      <td>208.61</td>\n",
       "      <td>22.536</td>\n",
       "      <td>5000</td>\n",
       "      <td>30</td>\n",
       "    </tr>\n",
       "  </tbody>\n",
       "</table>\n",
       "</div>"
      ],
      "text/plain": [
       "                       in_use          turn_on          turn_off production  \\\n",
       "units periods                                                                 \n",
       "coal1 1        in_use_coal1_1  turn_on_coal1_1  turn_off_coal1_1  p_coal1_1   \n",
       "      2        in_use_coal1_2  turn_on_coal1_2  turn_off_coal1_2  p_coal1_2   \n",
       "      3        in_use_coal1_3  turn_on_coal1_3  turn_off_coal1_3  p_coal1_3   \n",
       "      4        in_use_coal1_4  turn_on_coal1_4  turn_off_coal1_4  p_coal1_4   \n",
       "      5        in_use_coal1_5  turn_on_coal1_5  turn_off_coal1_5  p_coal1_5   \n",
       "\n",
       "               fixed_cost  variable_cost  start_cost  co2_cost  \n",
       "units periods                                                   \n",
       "coal1 1            208.61         22.536        5000        30  \n",
       "      2            208.61         22.536        5000        30  \n",
       "      3            208.61         22.536        5000        30  \n",
       "      4            208.61         22.536        5000        30  \n",
       "      5            208.61         22.536        5000        30  "
      ]
     },
     "execution_count": 23,
     "metadata": {},
     "output_type": "execute_result"
    }
   ],
   "source": [
    "# Create a join between 'df_decision_vars' and 'df_up' Data Frames based on common index ids (ie: 'units')\n",
    "# In 'df_up', one keeps only relevant columns: 'fixed_cost', 'variable_cost', 'start_cost' and 'co2_cost'\n",
    "df_join_obj = df_decision_vars.join(\n",
    "    df_up[['fixed_cost', 'variable_cost', 'start_cost', 'co2_cost']], how='inner')\n",
    "\n",
    "# Display first few rows of joined Data Frame\n",
    "df_join_obj.head()"
   ]
  },
  {
   "cell_type": "code",
   "execution_count": null,
   "metadata": {
    "collapsed": false
   },
   "outputs": [],
   "source": [
    "# objective\n",
    "total_fixed_cost = ucpm.sum(df_join_obj.in_use * df_join_obj.fixed_cost)\n",
    "total_variable_cost = ucpm.sum(df_join_obj.production * df_join_obj.variable_cost)\n",
    "total_startup_cost = ucpm.sum(df_join_obj.turn_on * df_join_obj.start_cost)\n",
    "total_co2_cost = ucpm.sum(df_join_obj.production * df_join_obj.co2_cost)\n",
    "total_economic_cost = total_fixed_cost + total_variable_cost + total_startup_cost\n",
    "\n",
    "total_nb_used = ucpm.sum(df_decision_vars.in_use)\n",
    "total_nb_starts = ucpm.sum(df_decision_vars.turn_on)\n",
    "\n",
    "# store expression kpis to retrieve them later.\n",
    "ucpm.add_kpi(total_fixed_cost   , \"Total Fixed Cost\")\n",
    "ucpm.add_kpi(total_variable_cost, \"Total Variable Cost\")\n",
    "ucpm.add_kpi(total_startup_cost , \"Total Startup Cost\")\n",
    "ucpm.add_kpi(total_economic_cost, \"Total Economic Cost\")\n",
    "ucpm.add_kpi(total_co2_cost     , \"Total CO2 Cost\")\n",
    "ucpm.add_kpi(total_nb_used, \"Total #used\")\n",
    "ucpm.add_kpi(total_nb_starts, \"Total #starts\")\n",
    "\n",
    "# minimize sum of all costs\n",
    "ucpm.minimize(total_fixed_cost + total_variable_cost + total_startup_cost + total_co2_cost)"
   ]
  },
  {
   "cell_type": "markdown",
   "metadata": {},
   "source": [
    "#### Solve with Decision Optimization\n",
    "\n",
    "If you're using a Community Edition of CPLEX runtimes, depending on the size of the problem, the solve stage may fail and will need a paying subscription or product installation."
   ]
  },
  {
   "cell_type": "code",
   "execution_count": null,
   "metadata": {
    "collapsed": false
   },
   "outputs": [
    {
     "name": "stdout",
     "output_type": "stream",
     "text": [
      "Model: ucp\n",
      " - number of variables: 7680\n",
      "   - binary=5760, integer=0, continuous=1920\n",
      " - number of constraints: 15455\n",
      "   - linear=15455\n",
      " - parameters: defaults\n"
     ]
    }
   ],
   "source": [
    "ucpm.print_information()"
   ]
  },
  {
   "cell_type": "code",
   "execution_count": null,
   "metadata": {
    "collapsed": false
   },
   "outputs": [],
   "source": [
    "assert ucpm.solve(), \"!!! Solve of the model fails\""
   ]
  },
  {
   "cell_type": "code",
   "execution_count": null,
   "metadata": {
    "collapsed": false
   },
   "outputs": [
    {
     "name": "stdout",
     "output_type": "stream",
     "text": [
      "* model ucp solved with objective = 14213082.064\n",
      "*  KPI: Total Fixed Cost    = 161025.131\n",
      "*  KPI: Total Variable Cost = 8865900.433\n",
      "*  KPI: Total Startup Cost  = 2832.000\n",
      "*  KPI: Total Economic Cost = 9029757.564\n",
      "*  KPI: Total CO2 Cost      = 5183324.500\n",
      "*  KPI: Total #used         = 1335.000\n",
      "*  KPI: Total #starts       = 3.000\n"
     ]
    }
   ],
   "source": [
    "ucpm.report()"
   ]
  },
  {
   "cell_type": "markdown",
   "metadata": {},
   "source": [
    "### Step 5: Investigate the solution and then run an example analysis\n",
    "\n",
    "Now let's store the results in a new *pandas* DataFrame.\n",
    "\n",
    "For convenience, the different figures are organized into pivot tables with *periods* as row index and *units* as columns. The *pandas* *unstack* operation does this for us."
   ]
  },
  {
   "cell_type": "code",
   "execution_count": null,
   "metadata": {
    "collapsed": false
   },
   "outputs": [
    {
     "data": {
      "text/html": [
       "<div>\n",
       "<style scoped>\n",
       "    .dataframe tbody tr th:only-of-type {\n",
       "        vertical-align: middle;\n",
       "    }\n",
       "\n",
       "    .dataframe tbody tr th {\n",
       "        vertical-align: top;\n",
       "    }\n",
       "\n",
       "    .dataframe thead th {\n",
       "        text-align: right;\n",
       "    }\n",
       "</style>\n",
       "<table border=\"1\" class=\"dataframe\">\n",
       "  <thead>\n",
       "    <tr style=\"text-align: right;\">\n",
       "      <th>units</th>\n",
       "      <th>coal1</th>\n",
       "      <th>coal2</th>\n",
       "      <th>diesel1</th>\n",
       "      <th>diesel2</th>\n",
       "      <th>diesel3</th>\n",
       "      <th>diesel4</th>\n",
       "      <th>gas1</th>\n",
       "      <th>gas2</th>\n",
       "      <th>gas3</th>\n",
       "      <th>gas4</th>\n",
       "    </tr>\n",
       "    <tr>\n",
       "      <th>periods</th>\n",
       "      <th></th>\n",
       "      <th></th>\n",
       "      <th></th>\n",
       "      <th></th>\n",
       "      <th></th>\n",
       "      <th></th>\n",
       "      <th></th>\n",
       "      <th></th>\n",
       "      <th></th>\n",
       "      <th></th>\n",
       "    </tr>\n",
       "  </thead>\n",
       "  <tbody>\n",
       "    <tr>\n",
       "      <th>1</th>\n",
       "      <td>425.0</td>\n",
       "      <td>215.0</td>\n",
       "      <td>90.0</td>\n",
       "      <td>87.0</td>\n",
       "      <td>0.0</td>\n",
       "      <td>0.0</td>\n",
       "      <td>109.4</td>\n",
       "      <td>52.0</td>\n",
       "      <td>165.0</td>\n",
       "      <td>115.6</td>\n",
       "    </tr>\n",
       "    <tr>\n",
       "      <th>2</th>\n",
       "      <td>425.0</td>\n",
       "      <td>365.0</td>\n",
       "      <td>90.0</td>\n",
       "      <td>87.0</td>\n",
       "      <td>0.0</td>\n",
       "      <td>0.0</td>\n",
       "      <td>78.0</td>\n",
       "      <td>71.0</td>\n",
       "      <td>165.0</td>\n",
       "      <td>158.0</td>\n",
       "    </tr>\n",
       "    <tr>\n",
       "      <th>3</th>\n",
       "      <td>425.0</td>\n",
       "      <td>312.0</td>\n",
       "      <td>90.0</td>\n",
       "      <td>87.0</td>\n",
       "      <td>0.0</td>\n",
       "      <td>0.0</td>\n",
       "      <td>0.0</td>\n",
       "      <td>52.0</td>\n",
       "      <td>165.0</td>\n",
       "      <td>158.0</td>\n",
       "    </tr>\n",
       "    <tr>\n",
       "      <th>4</th>\n",
       "      <td>425.0</td>\n",
       "      <td>234.0</td>\n",
       "      <td>90.0</td>\n",
       "      <td>87.0</td>\n",
       "      <td>0.0</td>\n",
       "      <td>0.0</td>\n",
       "      <td>0.0</td>\n",
       "      <td>52.0</td>\n",
       "      <td>165.0</td>\n",
       "      <td>158.0</td>\n",
       "    </tr>\n",
       "    <tr>\n",
       "      <th>5</th>\n",
       "      <td>425.0</td>\n",
       "      <td>365.0</td>\n",
       "      <td>90.0</td>\n",
       "      <td>87.0</td>\n",
       "      <td>0.0</td>\n",
       "      <td>0.0</td>\n",
       "      <td>0.0</td>\n",
       "      <td>143.0</td>\n",
       "      <td>165.0</td>\n",
       "      <td>158.0</td>\n",
       "    </tr>\n",
       "  </tbody>\n",
       "</table>\n",
       "</div>"
      ],
      "text/plain": [
       "units    coal1  coal2  diesel1  diesel2  diesel3  diesel4   gas1   gas2  \\\n",
       "periods                                                                   \n",
       "1        425.0  215.0     90.0     87.0      0.0      0.0  109.4   52.0   \n",
       "2        425.0  365.0     90.0     87.0      0.0      0.0   78.0   71.0   \n",
       "3        425.0  312.0     90.0     87.0      0.0      0.0    0.0   52.0   \n",
       "4        425.0  234.0     90.0     87.0      0.0      0.0    0.0   52.0   \n",
       "5        425.0  365.0     90.0     87.0      0.0      0.0    0.0  143.0   \n",
       "\n",
       "units     gas3   gas4  \n",
       "periods                \n",
       "1        165.0  115.6  \n",
       "2        165.0  158.0  \n",
       "3        165.0  158.0  \n",
       "4        165.0  158.0  \n",
       "5        165.0  158.0  "
      ]
     },
     "execution_count": 28,
     "metadata": {},
     "output_type": "execute_result"
    }
   ],
   "source": [
    "df_prods = df_decision_vars.production.apply(lambda v: v.solution_value).unstack(level='units')\n",
    "df_used = df_decision_vars.in_use.apply(lambda v: v.solution_value).unstack(level='units')\n",
    "df_started = df_decision_vars.turn_on.apply(lambda v: v.solution_value).unstack(level='units')\n",
    "\n",
    "# Display the first few rows of the pivoted 'production' data\n",
    "df_prods.head()"
   ]
  },
  {
   "cell_type": "markdown",
   "metadata": {},
   "source": [
    "From these raw DataFrame results, we can compute _derived_ results.\n",
    "For example, for a given unit and period, the _reserve_ r(u,t) is defined as\n",
    "the unit's maximum generation minus the current production."
   ]
  },
  {
   "cell_type": "code",
   "execution_count": null,
   "metadata": {
    "collapsed": false
   },
   "outputs": [
    {
     "data": {
      "text/html": [
       "<div>\n",
       "<style scoped>\n",
       "    .dataframe tbody tr th:only-of-type {\n",
       "        vertical-align: middle;\n",
       "    }\n",
       "\n",
       "    .dataframe tbody tr th {\n",
       "        vertical-align: top;\n",
       "    }\n",
       "\n",
       "    .dataframe thead th {\n",
       "        text-align: right;\n",
       "    }\n",
       "</style>\n",
       "<table border=\"1\" class=\"dataframe\">\n",
       "  <thead>\n",
       "    <tr style=\"text-align: right;\">\n",
       "      <th></th>\n",
       "      <th>coal1</th>\n",
       "      <th>coal2</th>\n",
       "      <th>diesel1</th>\n",
       "      <th>diesel2</th>\n",
       "      <th>diesel3</th>\n",
       "      <th>diesel4</th>\n",
       "      <th>gas1</th>\n",
       "      <th>gas2</th>\n",
       "      <th>gas3</th>\n",
       "      <th>gas4</th>\n",
       "    </tr>\n",
       "  </thead>\n",
       "  <tbody>\n",
       "    <tr>\n",
       "      <th>1</th>\n",
       "      <td>-2.273737e-13</td>\n",
       "      <td>1.500000e+02</td>\n",
       "      <td>-2.842171e-14</td>\n",
       "      <td>-2.842171e-14</td>\n",
       "      <td>20.0</td>\n",
       "      <td>12.0</td>\n",
       "      <td>110.6</td>\n",
       "      <td>158.0</td>\n",
       "      <td>-5.684342e-14</td>\n",
       "      <td>4.240000e+01</td>\n",
       "    </tr>\n",
       "    <tr>\n",
       "      <th>2</th>\n",
       "      <td>-1.136868e-13</td>\n",
       "      <td>-5.684342e-14</td>\n",
       "      <td>-1.421085e-14</td>\n",
       "      <td>0.000000e+00</td>\n",
       "      <td>20.0</td>\n",
       "      <td>12.0</td>\n",
       "      <td>142.0</td>\n",
       "      <td>139.0</td>\n",
       "      <td>0.000000e+00</td>\n",
       "      <td>-2.842171e-14</td>\n",
       "    </tr>\n",
       "    <tr>\n",
       "      <th>3</th>\n",
       "      <td>-1.136868e-13</td>\n",
       "      <td>5.300000e+01</td>\n",
       "      <td>-1.421085e-14</td>\n",
       "      <td>0.000000e+00</td>\n",
       "      <td>20.0</td>\n",
       "      <td>12.0</td>\n",
       "      <td>220.0</td>\n",
       "      <td>158.0</td>\n",
       "      <td>-2.842171e-14</td>\n",
       "      <td>0.000000e+00</td>\n",
       "    </tr>\n",
       "    <tr>\n",
       "      <th>4</th>\n",
       "      <td>-1.136868e-13</td>\n",
       "      <td>1.310000e+02</td>\n",
       "      <td>0.000000e+00</td>\n",
       "      <td>0.000000e+00</td>\n",
       "      <td>20.0</td>\n",
       "      <td>12.0</td>\n",
       "      <td>220.0</td>\n",
       "      <td>158.0</td>\n",
       "      <td>-2.842171e-14</td>\n",
       "      <td>0.000000e+00</td>\n",
       "    </tr>\n",
       "    <tr>\n",
       "      <th>5</th>\n",
       "      <td>-1.136868e-13</td>\n",
       "      <td>-5.684342e-14</td>\n",
       "      <td>0.000000e+00</td>\n",
       "      <td>0.000000e+00</td>\n",
       "      <td>20.0</td>\n",
       "      <td>12.0</td>\n",
       "      <td>220.0</td>\n",
       "      <td>67.0</td>\n",
       "      <td>-2.842171e-14</td>\n",
       "      <td>-2.842171e-14</td>\n",
       "    </tr>\n",
       "  </tbody>\n",
       "</table>\n",
       "</div>"
      ],
      "text/plain": [
       "          coal1         coal2       diesel1       diesel2  diesel3  diesel4  \\\n",
       "1 -2.273737e-13  1.500000e+02 -2.842171e-14 -2.842171e-14     20.0     12.0   \n",
       "2 -1.136868e-13 -5.684342e-14 -1.421085e-14  0.000000e+00     20.0     12.0   \n",
       "3 -1.136868e-13  5.300000e+01 -1.421085e-14  0.000000e+00     20.0     12.0   \n",
       "4 -1.136868e-13  1.310000e+02  0.000000e+00  0.000000e+00     20.0     12.0   \n",
       "5 -1.136868e-13 -5.684342e-14  0.000000e+00  0.000000e+00     20.0     12.0   \n",
       "\n",
       "    gas1   gas2          gas3          gas4  \n",
       "1  110.6  158.0 -5.684342e-14  4.240000e+01  \n",
       "2  142.0  139.0  0.000000e+00 -2.842171e-14  \n",
       "3  220.0  158.0 -2.842171e-14  0.000000e+00  \n",
       "4  220.0  158.0 -2.842171e-14  0.000000e+00  \n",
       "5  220.0   67.0 -2.842171e-14 -2.842171e-14  "
      ]
     },
     "execution_count": 29,
     "metadata": {},
     "output_type": "execute_result"
    }
   ],
   "source": [
    "df_spins = DataFrame(df_up.max_gen.to_dict(), index=periods) - df_prods\n",
    "\n",
    "# Display the first few rows of the 'df_spins' Data Frame, representing the reserve for each unit, over time\n",
    "df_spins.head()"
   ]
  },
  {
   "cell_type": "markdown",
   "metadata": {},
   "source": [
    "Let's plot the evolution of the reserves for the *\"coal2\"* unit:"
   ]
  },
  {
   "cell_type": "code",
   "execution_count": null,
   "metadata": {
    "collapsed": false
   },
   "outputs": [
    {
     "data": {
      "text/plain": [
       "<matplotlib.axes._subplots.AxesSubplot at 0x26f21936d30>"
      ]
     },
     "execution_count": 30,
     "metadata": {},
     "output_type": "execute_result"
    },
    {
     "data": {
      "image/png": "[encoded data removed]",
      "text/plain": [
       "<Figure size 432x288 with 1 Axes>"
      ]
     },
     "metadata": {
      "needs_background": "light"
     },
     "output_type": "display_data"
    }
   ],
   "source": [
    "df_spins.coal2.plot(style='o-', ylim=[0,200])"
   ]
  },
  {
   "cell_type": "markdown",
   "metadata": {},
   "source": [
    "Now we want to sum all unit reserves to compute the _global_ spinning reserve.\n",
    "We need to sum all columns of the DataFrame to get an aggregated time series. We use the *pandas* **sum** method\n",
    "with axis=1 (for rows)."
   ]
  },
  {
   "cell_type": "code",
   "execution_count": null,
   "metadata": {
    "collapsed": false
   },
   "outputs": [
    {
     "data": {
      "text/plain": [
       "<matplotlib.axes._subplots.AxesSubplot at 0x26f243985f8>"
      ]
     },
     "execution_count": 31,
     "metadata": {},
     "output_type": "execute_result"
    },
    {
     "data": {
      "image/png": "[encoded data removed]",
      "text/plain": [
       "<Figure size 432x288 with 1 Axes>"
      ]
     },
     "metadata": {
      "needs_background": "light"
     },
     "output_type": "display_data"
    }
   ],
   "source": [
    "global_spin = df_spins.sum(axis=1)\n",
    "global_spin.plot(title=\"Global spinning reserve\")"
   ]
  },
  {
   "cell_type": "markdown",
   "metadata": {},
   "source": [
    "#### Number of plants online by period\n",
    "\n",
    "The total number of plants online at each period t is the sum of in_use variables for all units at this period.\n",
    "Again, we use the *pandas* sum with axis=1 (for rows) to sum over all units."
   ]
  },
  {
   "cell_type": "code",
   "execution_count": null,
   "metadata": {
    "collapsed": false
   },
   "outputs": [
    {
     "data": {
      "text/plain": [
       "<matplotlib.axes._subplots.AxesSubplot at 0x26f244050b8>"
      ]
     },
     "execution_count": 32,
     "metadata": {},
     "output_type": "execute_result"
    },
    {
     "data": {
      "image/png": "[encoded data removed]",
      "text/plain": [
       "<Figure size 432x288 with 1 Axes>"
      ]
     },
     "metadata": {
      "needs_background": "light"
     },
     "output_type": "display_data"
    }
   ],
   "source": [
    "df_used.sum(axis=1).plot(title=\"Number of plants online\", kind='line', style=\"r-\", ylim=[0, len(units)])"
   ]
  },
  {
   "cell_type": "markdown",
   "metadata": {},
   "source": [
    "#### Costs by period"
   ]
  },
  {
   "cell_type": "code",
   "execution_count": null,
   "metadata": {
    "collapsed": false
   },
   "outputs": [
    {
     "data": {
      "text/plain": [
       "<matplotlib.axes._subplots.AxesSubplot at 0x26f244712e8>"
      ]
     },
     "execution_count": 33,
     "metadata": {},
     "output_type": "execute_result"
    },
    {
     "data": {
      "image/png": "[encoded data removed]",
      "text/plain": [
       "<Figure size 432x288 with 1 Axes>"
      ]
     },
     "metadata": {
      "needs_background": "light"
     },
     "output_type": "display_data"
    }
   ],
   "source": [
    "# extract unit cost data\n",
    "all_costs = [\"fixed_cost\", \"variable_cost\", \"start_cost\", \"co2_cost\"]\n",
    "df_costs = df_up[all_costs]\n",
    "\n",
    "running_cost = df_used * df_costs.fixed_cost\n",
    "startup_cost = df_started * df_costs.start_cost\n",
    "variable_cost = df_prods * df_costs.variable_cost\n",
    "co2_cost = df_prods * df_costs.co2_cost\n",
    "total_cost = running_cost + startup_cost + variable_cost + co2_cost\n",
    "\n",
    "running_cost.sum(axis=1).plot(style='g')\n",
    "startup_cost.sum(axis=1).plot(style='r')\n",
    "variable_cost.sum(axis=1).plot(style='b',logy=True)\n",
    "co2_cost.sum(axis=1).plot(style='k')"
   ]
  },
  {
   "cell_type": "markdown",
   "metadata": {},
   "source": [
    "#### Cost breakdown by unit and by energy"
   ]
  },
  {
   "cell_type": "code",
   "execution_count": null,
   "metadata": {
    "collapsed": false
   },
   "outputs": [
    {
     "data": {
      "text/plain": [
       "Text(0.5, 1.0, 'total cost by energy type')"
      ]
     },
     "execution_count": 34,
     "metadata": {},
     "output_type": "execute_result"
    },
    {
     "data": {
      "image/png": "[encoded data removed]",
      "text/plain": [
       "<Figure size 432x432 with 1 Axes>"
      ]
     },
     "metadata": {},
     "output_type": "display_data"
    }
   ],
   "source": [
    "# Calculate sum by column (by default, axis = 0) to get total cost for each unit\n",
    "cost_by_unit = total_cost.sum()\n",
    "\n",
    "# Create a dictionary storing energy type for each unit, from the corresponding pandas Series\n",
    "unit_energies = df_up.energy.to_dict()\n",
    "\n",
    "# Group cost by unit type and plot total cost by energy type in a pie chart\n",
    "gb = cost_by_unit.groupby(unit_energies)\n",
    "# gb.sum().plot(kind='pie')\n",
    "gb.sum().plot.pie(figsize=(6, 6),autopct='%.2f',fontsize=15)\n",
    "\n",
    "plt.title('total cost by energy type', bbox={'facecolor':'0.8', 'pad':5})"
   ]
  },
  {
   "cell_type": "markdown",
   "metadata": {},
   "source": [
    "### Arbitration between CO<sub>2</sub> cost and economic cost\n",
    "\n",
    "Economic cost and CO<sub>2</sub> cost usually push in opposite directions.\n",
    "In the above discussion, we have minimized the raw sum of economic cost and CO<sub>2</sub> cost, without weights.\n",
    "But how good could we be on CO<sub>2</sub>, regardless of economic constraints? \n",
    "To know this, let's solve again with CO<sub>2</sub> cost as the only objective.\n"
   ]
  },
  {
   "cell_type": "code",
   "execution_count": null,
   "metadata": {
    "collapsed": false
   },
   "outputs": [
    {
     "name": "stdout",
     "output_type": "stream",
     "text": [
      "* current CO2 cost is: 5183324.5\n",
      "* current $$$ cost is: 9029757.563900018\n"
     ]
    }
   ],
   "source": [
    "# first retrieve the co2 and economic kpis\n",
    "co2_kpi = ucpm.kpi_by_name(\"co2\") # does a name matching\n",
    "eco_kpi = ucpm.kpi_by_name(\"eco\")\n",
    "prev_co2_cost = co2_kpi.compute()\n",
    "prev_eco_cost = eco_kpi.compute()\n",
    "print(\"* current CO2 cost is: {}\".format(prev_co2_cost))\n",
    "print(\"* current $$$ cost is: {}\".format(prev_eco_cost))\n",
    "# now set the objective\n",
    "old_objective = ucpm.objective_expr # save it\n",
    "ucpm.minimize(co2_kpi.as_expression())"
   ]
  },
  {
   "cell_type": "code",
   "execution_count": null,
   "metadata": {
    "collapsed": true
   },
   "outputs": [],
   "source": [
    "assert ucpm.solve(), \"Solve failed\""
   ]
  },
  {
   "cell_type": "code",
   "execution_count": null,
   "metadata": {
    "collapsed": false
   },
   "outputs": [
    {
     "name": "stdout",
     "output_type": "stream",
     "text": [
      "* absolute minimum for CO2 cost is 3398912.0\n",
      "* at this point $$$ cost is 12453010.010000063\n"
     ]
    }
   ],
   "source": [
    "min_co2_cost = ucpm.objective_value\n",
    "min_co2_eco_cost = eco_kpi.compute()\n",
    "print(\"* absolute minimum for CO2 cost is {}\".format(min_co2_cost))\n",
    "print(\"* at this point $$$ cost is {}\".format(min_co2_eco_cost))"
   ]
  },
  {
   "cell_type": "markdown",
   "metadata": {},
   "source": [
    "As expected, we get a significantly lower CO<sub>2</sub> cost when minimized alone, at the price of a higher economic cost.\n",
    "\n",
    "We could do a similar analysis for economic cost to estimate the absolute minimum of\n",
    "the economic cost, regardless of CO<sub>2</sub> cost."
   ]
  },
  {
   "cell_type": "code",
   "execution_count": null,
   "metadata": {
    "collapsed": false
   },
   "outputs": [],
   "source": [
    "# minimize only economic cost\n",
    "ucpm.minimize(eco_kpi.as_expression())"
   ]
  },
  {
   "cell_type": "code",
   "execution_count": null,
   "metadata": {
    "collapsed": true
   },
   "outputs": [],
   "source": [
    "assert ucpm.solve(), \"Solve failed\""
   ]
  },
  {
   "cell_type": "code",
   "execution_count": null,
   "metadata": {
    "collapsed": false
   },
   "outputs": [
    {
     "name": "stdout",
     "output_type": "stream",
     "text": [
      "* absolute minimum for $$$ cost is 8887433.859000001\n",
      "* at this point CO2 cost is 5375417.000000001\n"
     ]
    }
   ],
   "source": [
    "min_eco_cost = ucpm.objective_value\n",
    "min_eco_co2_cost = co2_kpi.compute()\n",
    "print(\"* absolute minimum for $$$ cost is {}\".format(min_eco_cost))\n",
    "print(\"* at this point CO2 cost is {}\".format(min_eco_co2_cost))"
   ]
  },
  {
   "cell_type": "markdown",
   "metadata": {},
   "source": [
    "Again, the absolute minimum for economic cost is lower than the figure we obtained in the original model where we minimized the _sum_ of economic and CO<sub>2</sub> costs, but here we significantly increase the CO<sub>2</sub>.\n",
    "\n",
    "But what happens in between these two extreme points?\n",
    "\n",
    "To investigate, we will divide the interval of CO<sub>2</sub> cost values in smaller intervals, add an upper limit on CO<sub>2</sub>,\n",
    "and minimize economic cost with this constraint. This will give us a Pareto optimal point with at most this CO<sub>2</sub> value.\n",
    "\n",
    "To avoid adding many constraints, we add only one constraint with an extra variable, and we change only the upper bound\n",
    "of this CO<sub>2</sub> limit variable between successive solves.\n",
    "\n",
    "Then we iterate (with a fixed number of iterations) and collect the cost values. "
   ]
  },
  {
   "cell_type": "code",
   "execution_count": null,
   "metadata": {
    "collapsed": false
   },
   "outputs": [],
   "source": [
    "# add extra variable\n",
    "co2_limit = ucpm.continuous_var(lb=0)\n",
    "# add a named constraint which limits total co2 cost to this variable:\n",
    "max_co2_ctname = \"ct_max_co2\"\n",
    "co2_ct = ucpm.add_constraint(co2_kpi.as_expression() <= co2_limit, max_co2_ctname)     "
   ]
  },
  {
   "cell_type": "code",
   "execution_count": null,
   "metadata": {
    "collapsed": false
   },
   "outputs": [],
   "source": [
    "co2min = min_co2_cost\n",
    "co2max = min_eco_co2_cost\n",
    "def explore_ucp(nb_iters, eps=1e-5):\n",
    "\n",
    "    step = (co2max-co2min)/float(nb_iters)\n",
    "    co2_ubs = [co2min + k * step for k in range(nb_iters+1)]\n",
    "\n",
    "    # ensure we minimize eco\n",
    "    ucpm.minimize(eco_kpi.as_expression())\n",
    "    all_co2s = []\n",
    "    all_ecos = []\n",
    "    for k in range(nb_iters+1):\n",
    "        co2_ub = co2min + k * step\n",
    "        print(\" iteration #{0} co2_ub={1}\".format(k, co2_ub))\n",
    "        co2_limit.ub = co2_ub + eps\n",
    "        assert ucpm.solve() is not None, \"Solve failed\"\n",
    "        cur_co2 = co2_kpi.compute()\n",
    "        cur_eco = eco_kpi.compute()\n",
    "        all_co2s.append(cur_co2)\n",
    "        all_ecos.append(cur_eco)\n",
    "    return all_co2s, all_ecos"
   ]
  },
  {
   "cell_type": "code",
   "execution_count": null,
   "metadata": {
    "collapsed": false
   },
   "outputs": [
    {
     "name": "stdout",
     "output_type": "stream",
     "text": [
      " iteration #0 co2_ub=3398912.0\n",
      " iteration #1 co2_ub=3438442.1\n",
      " iteration #2 co2_ub=3477972.2\n",
      " iteration #3 co2_ub=3517502.3000000003\n",
      " iteration #4 co2_ub=3557032.4\n",
      " iteration #5 co2_ub=3596562.5\n"
     ]
    }
   ],
   "source": [
    "#explore the co2/eco frontier in 50 points\n",
    "co2s, ecos = explore_ucp(nb_iters=50)"
   ]
  },
  {
   "cell_type": "code",
   "execution_count": null,
   "metadata": {
    "collapsed": false
   },
   "outputs": [],
   "source": [
    "# normalize all values by dividing by their maximum\n",
    "eco_max = min_co2_eco_cost\n",
    "nxs = [c / co2max for c in co2s]\n",
    "nys = [e / eco_max for e in ecos]\n",
    "# plot a scatter chart of x=co2, y=costs\n",
    "plt.scatter(nxs, nys)\n",
    "# plot as one point\n",
    "plt.plot(prev_co2_cost/co2max, prev_eco_cost/eco_max, \"rH\", markersize=16)\n",
    "plt.xlabel(\"co2 cost\")\n",
    "plt.ylabel(\"economic cost\")\n",
    "plt.show()"
   ]
  },
  {
   "cell_type": "markdown",
   "metadata": {},
   "source": [
    "This figure demonstrates that the result obtained in the initial model clearly favored\n",
    "economic cost over CO<sub>2</sub> cost: CO<sub>2</sub> cost is well above 95% of its maximum value."
   ]
  },
  {
   "cell_type": "markdown",
   "metadata": {},
   "source": [
    "## Summary\n",
    "\n",
    "You learned how to set up and use IBM Decision Optimization CPLEX Modeling for Python to formulate a Mathematical Programming model and solve it with IBM Decision Optimization on Cloud."
   ]
  },
  {
   "cell_type": "markdown",
   "metadata": {},
   "source": [
    "#### References\n",
    "* [CPLEX Modeling for Python documentation](http://ibmdecisionoptimization.github.io/docplex-doc/)\n",
    "* [Decision Optimization on Cloud](https://developer.ibm.com/docloud/)\n",
    "* Need help with DOcplex or to report a bug? Please go [here](https://developer.ibm.com/answers/smartspace/docloud).\n",
    "* Contact us at dofeedback@wwpdl.vnet.ibm.com."
   ]
  },
  {
   "cell_type": "markdown",
   "metadata": {},
   "source": [
    "Copyright © 2017-2018 IBM. IPLA licensed Sample Materials."
   ]
  },
  {
   "cell_type": "code",
   "execution_count": null,
   "metadata": {},
   "outputs": [],
   "source": []
  }
 ],
 "metadata": {
  "kernelspec": {
   "display_name": "Python 3",
   "language": "python",
   "name": "python3"
  },
  "language_info": {
   "codemirror_mode": {
    "name": "ipython",
    "version": 3
   },
   "file_extension": ".py",
   "mimetype": "text/x-python",
   "name": "python",
   "nbconvert_exporter": "python",
   "pygments_lexer": "ipython3",
   "version": "3.6.8"
  }
 },
 "nbformat": 4,
 "nbformat_minor": 2
}
